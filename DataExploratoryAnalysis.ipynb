{
 "cells": [
  {
   "cell_type": "markdown",
   "id": "6c6bb5fc",
   "metadata": {},
   "source": [
    "# ANÁLISIS EXPLORATORIO DE DATOS"
   ]
  },
  {
   "cell_type": "markdown",
   "id": "e968091e",
   "metadata": {},
   "source": [
    "### Instalación y activación de paquetes  "
   ]
  },
  {
   "cell_type": "code",
   "execution_count": 3,
   "id": "6344ef00",
   "metadata": {
    "scrolled": true
   },
   "outputs": [
    {
     "ename": "ERROR",
     "evalue": "Error: package or namespace load failed for 'ggplot2' in loadNamespace(j <- i[[1L]], c(lib.loc, .libPaths()), versionCheck = vI[[j]]):\n there is no package called 'pillar'\n",
     "output_type": "error",
     "traceback": [
      "Error: package or namespace load failed for 'ggplot2' in loadNamespace(j <- i[[1L]], c(lib.loc, .libPaths()), versionCheck = vI[[j]]):\n there is no package called 'pillar'\nTraceback:\n",
      "1. library(ggplot2)",
      "2. tryCatch({\n .     attr(package, \"LibPath\") <- which.lib.loc\n .     ns <- loadNamespace(package, lib.loc)\n .     env <- attachNamespace(ns, pos = pos, deps, exclude, include.only)\n . }, error = function(e) {\n .     P <- if (!is.null(cc <- conditionCall(e))) \n .         paste(\" in\", deparse(cc)[1L])\n .     else \"\"\n .     msg <- gettextf(\"package or namespace load failed for %s%s:\\n %s\", \n .         sQuote(package), P, conditionMessage(e))\n .     if (logical.return) \n .         message(paste(\"Error:\", msg), domain = NA)\n .     else stop(msg, call. = FALSE, domain = NA)\n . })",
      "3. tryCatchList(expr, classes, parentenv, handlers)",
      "4. tryCatchOne(expr, names, parentenv, handlers[[1L]])",
      "5. value[[3L]](cond)",
      "6. stop(msg, call. = FALSE, domain = NA)"
     ]
    }
   ],
   "source": [
    "#install.packages(\"ggplot2\")\n",
    "library(ggplot2)"
   ]
  },
  {
   "cell_type": "code",
   "execution_count": 16,
   "id": "e9a8820c",
   "metadata": {
    "scrolled": false
   },
   "outputs": [
    {
     "name": "stderr",
     "output_type": "stream",
     "text": [
      "Warning message:\n",
      "\"package 'tidyverse' was built under R version 3.6.3\""
     ]
    },
    {
     "ename": "ERROR",
     "evalue": "Error: package or namespace load failed for 'tidyverse' in loadNamespace(j <- i[[1L]], c(lib.loc, .libPaths()), versionCheck = vI[[j]]):\n namespace 'broom' 0.5.2 is being loaded, but >= 0.7.6 is required\n",
     "output_type": "error",
     "traceback": [
      "Error: package or namespace load failed for 'tidyverse' in loadNamespace(j <- i[[1L]], c(lib.loc, .libPaths()), versionCheck = vI[[j]]):\n namespace 'broom' 0.5.2 is being loaded, but >= 0.7.6 is required\nTraceback:\n",
      "1. library(tidyverse)",
      "2. tryCatch({\n .     attr(package, \"LibPath\") <- which.lib.loc\n .     ns <- loadNamespace(package, lib.loc)\n .     env <- attachNamespace(ns, pos = pos, deps, exclude, include.only)\n . }, error = function(e) {\n .     P <- if (!is.null(cc <- conditionCall(e))) \n .         paste(\" in\", deparse(cc)[1L])\n .     else \"\"\n .     msg <- gettextf(\"package or namespace load failed for %s%s:\\n %s\", \n .         sQuote(package), P, conditionMessage(e))\n .     if (logical.return) \n .         message(paste(\"Error:\", msg), domain = NA)\n .     else stop(msg, call. = FALSE, domain = NA)\n . })",
      "3. tryCatchList(expr, classes, parentenv, handlers)",
      "4. tryCatchOne(expr, names, parentenv, handlers[[1L]])",
      "5. value[[3L]](cond)",
      "6. stop(msg, call. = FALSE, domain = NA)"
     ]
    }
   ],
   "source": [
    "#install.packages(\"tidyverse\")\n",
    "library(tidyverse)"
   ]
  },
  {
   "cell_type": "markdown",
   "id": "5242f5dd",
   "metadata": {},
   "source": [
    "### Importando la base de datos de R"
   ]
  },
  {
   "cell_type": "markdown",
   "id": "f59ef18d",
   "metadata": {},
   "source": [
    "Para este ejercicio utilizaremos la base de datos `CO2` \"Carbon Dioxide Uptake in Grass Plants\", correspondiente a un experimento sobre la tolerancia al frío de la especie de pasto *Echinochloa crus - galli*"
   ]
  },
  {
   "cell_type": "code",
   "execution_count": 24,
   "id": "87d28791",
   "metadata": {
    "scrolled": true
   },
   "outputs": [
    {
     "data": {
      "text/html": [
       "<table>\n",
       "<thead><tr><th scope=col>Plant</th><th scope=col>Type</th><th scope=col>Treatment</th><th scope=col>conc</th><th scope=col>uptake</th></tr></thead>\n",
       "<tbody>\n",
       "\t<tr><td>Qn1       </td><td>Quebec    </td><td>nonchilled</td><td>  95      </td><td>16.0      </td></tr>\n",
       "\t<tr><td>Qn1       </td><td>Quebec    </td><td>nonchilled</td><td> 175      </td><td>30.4      </td></tr>\n",
       "\t<tr><td>Qn1       </td><td>Quebec    </td><td>nonchilled</td><td> 250      </td><td>34.8      </td></tr>\n",
       "\t<tr><td>Qn1       </td><td>Quebec    </td><td>nonchilled</td><td> 350      </td><td>37.2      </td></tr>\n",
       "\t<tr><td>Qn1       </td><td>Quebec    </td><td>nonchilled</td><td> 500      </td><td>35.3      </td></tr>\n",
       "\t<tr><td>Qn1       </td><td>Quebec    </td><td>nonchilled</td><td> 675      </td><td>39.2      </td></tr>\n",
       "\t<tr><td>Qn1       </td><td>Quebec    </td><td>nonchilled</td><td>1000      </td><td>39.7      </td></tr>\n",
       "\t<tr><td>Qn2       </td><td>Quebec    </td><td>nonchilled</td><td>  95      </td><td>13.6      </td></tr>\n",
       "\t<tr><td>Qn2       </td><td>Quebec    </td><td>nonchilled</td><td> 175      </td><td>27.3      </td></tr>\n",
       "\t<tr><td>Qn2       </td><td>Quebec    </td><td>nonchilled</td><td> 250      </td><td>37.1      </td></tr>\n",
       "\t<tr><td>Qn2       </td><td>Quebec    </td><td>nonchilled</td><td> 350      </td><td>41.8      </td></tr>\n",
       "\t<tr><td>Qn2       </td><td>Quebec    </td><td>nonchilled</td><td> 500      </td><td>40.6      </td></tr>\n",
       "\t<tr><td>Qn2       </td><td>Quebec    </td><td>nonchilled</td><td> 675      </td><td>41.4      </td></tr>\n",
       "\t<tr><td>Qn2       </td><td>Quebec    </td><td>nonchilled</td><td>1000      </td><td>44.3      </td></tr>\n",
       "\t<tr><td>Qn3       </td><td>Quebec    </td><td>nonchilled</td><td>  95      </td><td>16.2      </td></tr>\n",
       "\t<tr><td>Qn3       </td><td>Quebec    </td><td>nonchilled</td><td> 175      </td><td>32.4      </td></tr>\n",
       "\t<tr><td>Qn3       </td><td>Quebec    </td><td>nonchilled</td><td> 250      </td><td>40.3      </td></tr>\n",
       "\t<tr><td>Qn3       </td><td>Quebec    </td><td>nonchilled</td><td> 350      </td><td>42.1      </td></tr>\n",
       "\t<tr><td>Qn3       </td><td>Quebec    </td><td>nonchilled</td><td> 500      </td><td>42.9      </td></tr>\n",
       "\t<tr><td>Qn3       </td><td>Quebec    </td><td>nonchilled</td><td> 675      </td><td>43.9      </td></tr>\n",
       "\t<tr><td>Qn3       </td><td>Quebec    </td><td>nonchilled</td><td>1000      </td><td>45.5      </td></tr>\n",
       "\t<tr><td>Qc1       </td><td>Quebec    </td><td>chilled   </td><td>  95      </td><td>14.2      </td></tr>\n",
       "\t<tr><td>Qc1       </td><td>Quebec    </td><td>chilled   </td><td> 175      </td><td>24.1      </td></tr>\n",
       "\t<tr><td>Qc1       </td><td>Quebec    </td><td>chilled   </td><td> 250      </td><td>30.3      </td></tr>\n",
       "\t<tr><td>Qc1       </td><td>Quebec    </td><td>chilled   </td><td> 350      </td><td>34.6      </td></tr>\n",
       "\t<tr><td>Qc1       </td><td>Quebec    </td><td>chilled   </td><td> 500      </td><td>32.5      </td></tr>\n",
       "\t<tr><td>Qc1       </td><td>Quebec    </td><td>chilled   </td><td> 675      </td><td>35.4      </td></tr>\n",
       "\t<tr><td>Qc1       </td><td>Quebec    </td><td>chilled   </td><td>1000      </td><td>38.7      </td></tr>\n",
       "\t<tr><td>Qc2       </td><td>Quebec    </td><td>chilled   </td><td>  95      </td><td> 9.3      </td></tr>\n",
       "\t<tr><td>Qc2       </td><td>Quebec    </td><td>chilled   </td><td> 175      </td><td>27.3      </td></tr>\n",
       "\t<tr><td>...</td><td>...</td><td>...</td><td>...</td><td>...</td></tr>\n",
       "\t<tr><td>Mn2        </td><td>Mississippi</td><td>nonchilled </td><td> 675       </td><td>31.1       </td></tr>\n",
       "\t<tr><td>Mn2        </td><td>Mississippi</td><td>nonchilled </td><td>1000       </td><td>31.5       </td></tr>\n",
       "\t<tr><td>Mn3        </td><td>Mississippi</td><td>nonchilled </td><td>  95       </td><td>11.3       </td></tr>\n",
       "\t<tr><td>Mn3        </td><td>Mississippi</td><td>nonchilled </td><td> 175       </td><td>19.4       </td></tr>\n",
       "\t<tr><td>Mn3        </td><td>Mississippi</td><td>nonchilled </td><td> 250       </td><td>25.8       </td></tr>\n",
       "\t<tr><td>Mn3        </td><td>Mississippi</td><td>nonchilled </td><td> 350       </td><td>27.9       </td></tr>\n",
       "\t<tr><td>Mn3        </td><td>Mississippi</td><td>nonchilled </td><td> 500       </td><td>28.5       </td></tr>\n",
       "\t<tr><td>Mn3        </td><td>Mississippi</td><td>nonchilled </td><td> 675       </td><td>28.1       </td></tr>\n",
       "\t<tr><td>Mn3        </td><td>Mississippi</td><td>nonchilled </td><td>1000       </td><td>27.8       </td></tr>\n",
       "\t<tr><td>Mc1        </td><td>Mississippi</td><td>chilled    </td><td>  95       </td><td>10.5       </td></tr>\n",
       "\t<tr><td>Mc1        </td><td>Mississippi</td><td>chilled    </td><td> 175       </td><td>14.9       </td></tr>\n",
       "\t<tr><td>Mc1        </td><td>Mississippi</td><td>chilled    </td><td> 250       </td><td>18.1       </td></tr>\n",
       "\t<tr><td>Mc1        </td><td>Mississippi</td><td>chilled    </td><td> 350       </td><td>18.9       </td></tr>\n",
       "\t<tr><td>Mc1        </td><td>Mississippi</td><td>chilled    </td><td> 500       </td><td>19.5       </td></tr>\n",
       "\t<tr><td>Mc1        </td><td>Mississippi</td><td>chilled    </td><td> 675       </td><td>22.2       </td></tr>\n",
       "\t<tr><td>Mc1        </td><td>Mississippi</td><td>chilled    </td><td>1000       </td><td>21.9       </td></tr>\n",
       "\t<tr><td>Mc2        </td><td>Mississippi</td><td>chilled    </td><td>  95       </td><td> 7.7       </td></tr>\n",
       "\t<tr><td>Mc2        </td><td>Mississippi</td><td>chilled    </td><td> 175       </td><td>11.4       </td></tr>\n",
       "\t<tr><td>Mc2        </td><td>Mississippi</td><td>chilled    </td><td> 250       </td><td>12.3       </td></tr>\n",
       "\t<tr><td>Mc2        </td><td>Mississippi</td><td>chilled    </td><td> 350       </td><td>13.0       </td></tr>\n",
       "\t<tr><td>Mc2        </td><td>Mississippi</td><td>chilled    </td><td> 500       </td><td>12.5       </td></tr>\n",
       "\t<tr><td>Mc2        </td><td>Mississippi</td><td>chilled    </td><td> 675       </td><td>13.7       </td></tr>\n",
       "\t<tr><td>Mc2        </td><td>Mississippi</td><td>chilled    </td><td>1000       </td><td>14.4       </td></tr>\n",
       "\t<tr><td>Mc3        </td><td>Mississippi</td><td>chilled    </td><td>  95       </td><td>10.6       </td></tr>\n",
       "\t<tr><td>Mc3        </td><td>Mississippi</td><td>chilled    </td><td> 175       </td><td>18.0       </td></tr>\n",
       "\t<tr><td>Mc3        </td><td>Mississippi</td><td>chilled    </td><td> 250       </td><td>17.9       </td></tr>\n",
       "\t<tr><td>Mc3        </td><td>Mississippi</td><td>chilled    </td><td> 350       </td><td>17.9       </td></tr>\n",
       "\t<tr><td>Mc3        </td><td>Mississippi</td><td>chilled    </td><td> 500       </td><td>17.9       </td></tr>\n",
       "\t<tr><td>Mc3        </td><td>Mississippi</td><td>chilled    </td><td> 675       </td><td>18.9       </td></tr>\n",
       "\t<tr><td>Mc3        </td><td>Mississippi</td><td>chilled    </td><td>1000       </td><td>19.9       </td></tr>\n",
       "</tbody>\n",
       "</table>\n"
      ],
      "text/latex": [
       "\\begin{tabular}{r|lllll}\n",
       " Plant & Type & Treatment & conc & uptake\\\\\n",
       "\\hline\n",
       "\t Qn1        & Quebec     & nonchilled &   95       & 16.0      \\\\\n",
       "\t Qn1        & Quebec     & nonchilled &  175       & 30.4      \\\\\n",
       "\t Qn1        & Quebec     & nonchilled &  250       & 34.8      \\\\\n",
       "\t Qn1        & Quebec     & nonchilled &  350       & 37.2      \\\\\n",
       "\t Qn1        & Quebec     & nonchilled &  500       & 35.3      \\\\\n",
       "\t Qn1        & Quebec     & nonchilled &  675       & 39.2      \\\\\n",
       "\t Qn1        & Quebec     & nonchilled & 1000       & 39.7      \\\\\n",
       "\t Qn2        & Quebec     & nonchilled &   95       & 13.6      \\\\\n",
       "\t Qn2        & Quebec     & nonchilled &  175       & 27.3      \\\\\n",
       "\t Qn2        & Quebec     & nonchilled &  250       & 37.1      \\\\\n",
       "\t Qn2        & Quebec     & nonchilled &  350       & 41.8      \\\\\n",
       "\t Qn2        & Quebec     & nonchilled &  500       & 40.6      \\\\\n",
       "\t Qn2        & Quebec     & nonchilled &  675       & 41.4      \\\\\n",
       "\t Qn2        & Quebec     & nonchilled & 1000       & 44.3      \\\\\n",
       "\t Qn3        & Quebec     & nonchilled &   95       & 16.2      \\\\\n",
       "\t Qn3        & Quebec     & nonchilled &  175       & 32.4      \\\\\n",
       "\t Qn3        & Quebec     & nonchilled &  250       & 40.3      \\\\\n",
       "\t Qn3        & Quebec     & nonchilled &  350       & 42.1      \\\\\n",
       "\t Qn3        & Quebec     & nonchilled &  500       & 42.9      \\\\\n",
       "\t Qn3        & Quebec     & nonchilled &  675       & 43.9      \\\\\n",
       "\t Qn3        & Quebec     & nonchilled & 1000       & 45.5      \\\\\n",
       "\t Qc1        & Quebec     & chilled    &   95       & 14.2      \\\\\n",
       "\t Qc1        & Quebec     & chilled    &  175       & 24.1      \\\\\n",
       "\t Qc1        & Quebec     & chilled    &  250       & 30.3      \\\\\n",
       "\t Qc1        & Quebec     & chilled    &  350       & 34.6      \\\\\n",
       "\t Qc1        & Quebec     & chilled    &  500       & 32.5      \\\\\n",
       "\t Qc1        & Quebec     & chilled    &  675       & 35.4      \\\\\n",
       "\t Qc1        & Quebec     & chilled    & 1000       & 38.7      \\\\\n",
       "\t Qc2        & Quebec     & chilled    &   95       &  9.3      \\\\\n",
       "\t Qc2        & Quebec     & chilled    &  175       & 27.3      \\\\\n",
       "\t ... & ... & ... & ... & ...\\\\\n",
       "\t Mn2         & Mississippi & nonchilled  &  675        & 31.1       \\\\\n",
       "\t Mn2         & Mississippi & nonchilled  & 1000        & 31.5       \\\\\n",
       "\t Mn3         & Mississippi & nonchilled  &   95        & 11.3       \\\\\n",
       "\t Mn3         & Mississippi & nonchilled  &  175        & 19.4       \\\\\n",
       "\t Mn3         & Mississippi & nonchilled  &  250        & 25.8       \\\\\n",
       "\t Mn3         & Mississippi & nonchilled  &  350        & 27.9       \\\\\n",
       "\t Mn3         & Mississippi & nonchilled  &  500        & 28.5       \\\\\n",
       "\t Mn3         & Mississippi & nonchilled  &  675        & 28.1       \\\\\n",
       "\t Mn3         & Mississippi & nonchilled  & 1000        & 27.8       \\\\\n",
       "\t Mc1         & Mississippi & chilled     &   95        & 10.5       \\\\\n",
       "\t Mc1         & Mississippi & chilled     &  175        & 14.9       \\\\\n",
       "\t Mc1         & Mississippi & chilled     &  250        & 18.1       \\\\\n",
       "\t Mc1         & Mississippi & chilled     &  350        & 18.9       \\\\\n",
       "\t Mc1         & Mississippi & chilled     &  500        & 19.5       \\\\\n",
       "\t Mc1         & Mississippi & chilled     &  675        & 22.2       \\\\\n",
       "\t Mc1         & Mississippi & chilled     & 1000        & 21.9       \\\\\n",
       "\t Mc2         & Mississippi & chilled     &   95        &  7.7       \\\\\n",
       "\t Mc2         & Mississippi & chilled     &  175        & 11.4       \\\\\n",
       "\t Mc2         & Mississippi & chilled     &  250        & 12.3       \\\\\n",
       "\t Mc2         & Mississippi & chilled     &  350        & 13.0       \\\\\n",
       "\t Mc2         & Mississippi & chilled     &  500        & 12.5       \\\\\n",
       "\t Mc2         & Mississippi & chilled     &  675        & 13.7       \\\\\n",
       "\t Mc2         & Mississippi & chilled     & 1000        & 14.4       \\\\\n",
       "\t Mc3         & Mississippi & chilled     &   95        & 10.6       \\\\\n",
       "\t Mc3         & Mississippi & chilled     &  175        & 18.0       \\\\\n",
       "\t Mc3         & Mississippi & chilled     &  250        & 17.9       \\\\\n",
       "\t Mc3         & Mississippi & chilled     &  350        & 17.9       \\\\\n",
       "\t Mc3         & Mississippi & chilled     &  500        & 17.9       \\\\\n",
       "\t Mc3         & Mississippi & chilled     &  675        & 18.9       \\\\\n",
       "\t Mc3         & Mississippi & chilled     & 1000        & 19.9       \\\\\n",
       "\\end{tabular}\n"
      ],
      "text/markdown": [
       "\n",
       "| Plant | Type | Treatment | conc | uptake |\n",
       "|---|---|---|---|---|\n",
       "| Qn1        | Quebec     | nonchilled |   95       | 16.0       |\n",
       "| Qn1        | Quebec     | nonchilled |  175       | 30.4       |\n",
       "| Qn1        | Quebec     | nonchilled |  250       | 34.8       |\n",
       "| Qn1        | Quebec     | nonchilled |  350       | 37.2       |\n",
       "| Qn1        | Quebec     | nonchilled |  500       | 35.3       |\n",
       "| Qn1        | Quebec     | nonchilled |  675       | 39.2       |\n",
       "| Qn1        | Quebec     | nonchilled | 1000       | 39.7       |\n",
       "| Qn2        | Quebec     | nonchilled |   95       | 13.6       |\n",
       "| Qn2        | Quebec     | nonchilled |  175       | 27.3       |\n",
       "| Qn2        | Quebec     | nonchilled |  250       | 37.1       |\n",
       "| Qn2        | Quebec     | nonchilled |  350       | 41.8       |\n",
       "| Qn2        | Quebec     | nonchilled |  500       | 40.6       |\n",
       "| Qn2        | Quebec     | nonchilled |  675       | 41.4       |\n",
       "| Qn2        | Quebec     | nonchilled | 1000       | 44.3       |\n",
       "| Qn3        | Quebec     | nonchilled |   95       | 16.2       |\n",
       "| Qn3        | Quebec     | nonchilled |  175       | 32.4       |\n",
       "| Qn3        | Quebec     | nonchilled |  250       | 40.3       |\n",
       "| Qn3        | Quebec     | nonchilled |  350       | 42.1       |\n",
       "| Qn3        | Quebec     | nonchilled |  500       | 42.9       |\n",
       "| Qn3        | Quebec     | nonchilled |  675       | 43.9       |\n",
       "| Qn3        | Quebec     | nonchilled | 1000       | 45.5       |\n",
       "| Qc1        | Quebec     | chilled    |   95       | 14.2       |\n",
       "| Qc1        | Quebec     | chilled    |  175       | 24.1       |\n",
       "| Qc1        | Quebec     | chilled    |  250       | 30.3       |\n",
       "| Qc1        | Quebec     | chilled    |  350       | 34.6       |\n",
       "| Qc1        | Quebec     | chilled    |  500       | 32.5       |\n",
       "| Qc1        | Quebec     | chilled    |  675       | 35.4       |\n",
       "| Qc1        | Quebec     | chilled    | 1000       | 38.7       |\n",
       "| Qc2        | Quebec     | chilled    |   95       |  9.3       |\n",
       "| Qc2        | Quebec     | chilled    |  175       | 27.3       |\n",
       "| ... | ... | ... | ... | ... |\n",
       "| Mn2         | Mississippi | nonchilled  |  675        | 31.1        |\n",
       "| Mn2         | Mississippi | nonchilled  | 1000        | 31.5        |\n",
       "| Mn3         | Mississippi | nonchilled  |   95        | 11.3        |\n",
       "| Mn3         | Mississippi | nonchilled  |  175        | 19.4        |\n",
       "| Mn3         | Mississippi | nonchilled  |  250        | 25.8        |\n",
       "| Mn3         | Mississippi | nonchilled  |  350        | 27.9        |\n",
       "| Mn3         | Mississippi | nonchilled  |  500        | 28.5        |\n",
       "| Mn3         | Mississippi | nonchilled  |  675        | 28.1        |\n",
       "| Mn3         | Mississippi | nonchilled  | 1000        | 27.8        |\n",
       "| Mc1         | Mississippi | chilled     |   95        | 10.5        |\n",
       "| Mc1         | Mississippi | chilled     |  175        | 14.9        |\n",
       "| Mc1         | Mississippi | chilled     |  250        | 18.1        |\n",
       "| Mc1         | Mississippi | chilled     |  350        | 18.9        |\n",
       "| Mc1         | Mississippi | chilled     |  500        | 19.5        |\n",
       "| Mc1         | Mississippi | chilled     |  675        | 22.2        |\n",
       "| Mc1         | Mississippi | chilled     | 1000        | 21.9        |\n",
       "| Mc2         | Mississippi | chilled     |   95        |  7.7        |\n",
       "| Mc2         | Mississippi | chilled     |  175        | 11.4        |\n",
       "| Mc2         | Mississippi | chilled     |  250        | 12.3        |\n",
       "| Mc2         | Mississippi | chilled     |  350        | 13.0        |\n",
       "| Mc2         | Mississippi | chilled     |  500        | 12.5        |\n",
       "| Mc2         | Mississippi | chilled     |  675        | 13.7        |\n",
       "| Mc2         | Mississippi | chilled     | 1000        | 14.4        |\n",
       "| Mc3         | Mississippi | chilled     |   95        | 10.6        |\n",
       "| Mc3         | Mississippi | chilled     |  175        | 18.0        |\n",
       "| Mc3         | Mississippi | chilled     |  250        | 17.9        |\n",
       "| Mc3         | Mississippi | chilled     |  350        | 17.9        |\n",
       "| Mc3         | Mississippi | chilled     |  500        | 17.9        |\n",
       "| Mc3         | Mississippi | chilled     |  675        | 18.9        |\n",
       "| Mc3         | Mississippi | chilled     | 1000        | 19.9        |\n",
       "\n"
      ],
      "text/plain": [
       "    Plant Type        Treatment  conc uptake\n",
       "1   Qn1   Quebec      nonchilled   95 16.0  \n",
       "2   Qn1   Quebec      nonchilled  175 30.4  \n",
       "3   Qn1   Quebec      nonchilled  250 34.8  \n",
       "4   Qn1   Quebec      nonchilled  350 37.2  \n",
       "5   Qn1   Quebec      nonchilled  500 35.3  \n",
       "6   Qn1   Quebec      nonchilled  675 39.2  \n",
       "7   Qn1   Quebec      nonchilled 1000 39.7  \n",
       "8   Qn2   Quebec      nonchilled   95 13.6  \n",
       "9   Qn2   Quebec      nonchilled  175 27.3  \n",
       "10  Qn2   Quebec      nonchilled  250 37.1  \n",
       "11  Qn2   Quebec      nonchilled  350 41.8  \n",
       "12  Qn2   Quebec      nonchilled  500 40.6  \n",
       "13  Qn2   Quebec      nonchilled  675 41.4  \n",
       "14  Qn2   Quebec      nonchilled 1000 44.3  \n",
       "15  Qn3   Quebec      nonchilled   95 16.2  \n",
       "16  Qn3   Quebec      nonchilled  175 32.4  \n",
       "17  Qn3   Quebec      nonchilled  250 40.3  \n",
       "18  Qn3   Quebec      nonchilled  350 42.1  \n",
       "19  Qn3   Quebec      nonchilled  500 42.9  \n",
       "20  Qn3   Quebec      nonchilled  675 43.9  \n",
       "21  Qn3   Quebec      nonchilled 1000 45.5  \n",
       "22  Qc1   Quebec      chilled      95 14.2  \n",
       "23  Qc1   Quebec      chilled     175 24.1  \n",
       "24  Qc1   Quebec      chilled     250 30.3  \n",
       "25  Qc1   Quebec      chilled     350 34.6  \n",
       "26  Qc1   Quebec      chilled     500 32.5  \n",
       "27  Qc1   Quebec      chilled     675 35.4  \n",
       "28  Qc1   Quebec      chilled    1000 38.7  \n",
       "29  Qc2   Quebec      chilled      95  9.3  \n",
       "30  Qc2   Quebec      chilled     175 27.3  \n",
       "... ...   ...         ...        ...  ...   \n",
       "55  Mn2   Mississippi nonchilled  675 31.1  \n",
       "56  Mn2   Mississippi nonchilled 1000 31.5  \n",
       "57  Mn3   Mississippi nonchilled   95 11.3  \n",
       "58  Mn3   Mississippi nonchilled  175 19.4  \n",
       "59  Mn3   Mississippi nonchilled  250 25.8  \n",
       "60  Mn3   Mississippi nonchilled  350 27.9  \n",
       "61  Mn3   Mississippi nonchilled  500 28.5  \n",
       "62  Mn3   Mississippi nonchilled  675 28.1  \n",
       "63  Mn3   Mississippi nonchilled 1000 27.8  \n",
       "64  Mc1   Mississippi chilled      95 10.5  \n",
       "65  Mc1   Mississippi chilled     175 14.9  \n",
       "66  Mc1   Mississippi chilled     250 18.1  \n",
       "67  Mc1   Mississippi chilled     350 18.9  \n",
       "68  Mc1   Mississippi chilled     500 19.5  \n",
       "69  Mc1   Mississippi chilled     675 22.2  \n",
       "70  Mc1   Mississippi chilled    1000 21.9  \n",
       "71  Mc2   Mississippi chilled      95  7.7  \n",
       "72  Mc2   Mississippi chilled     175 11.4  \n",
       "73  Mc2   Mississippi chilled     250 12.3  \n",
       "74  Mc2   Mississippi chilled     350 13.0  \n",
       "75  Mc2   Mississippi chilled     500 12.5  \n",
       "76  Mc2   Mississippi chilled     675 13.7  \n",
       "77  Mc2   Mississippi chilled    1000 14.4  \n",
       "78  Mc3   Mississippi chilled      95 10.6  \n",
       "79  Mc3   Mississippi chilled     175 18.0  \n",
       "80  Mc3   Mississippi chilled     250 17.9  \n",
       "81  Mc3   Mississippi chilled     350 17.9  \n",
       "82  Mc3   Mississippi chilled     500 17.9  \n",
       "83  Mc3   Mississippi chilled     675 18.9  \n",
       "84  Mc3   Mississippi chilled    1000 19.9  "
      ]
     },
     "metadata": {},
     "output_type": "display_data"
    }
   ],
   "source": [
    "data(\"CO2\")\n",
    "CO2"
   ]
  },
  {
   "cell_type": "markdown",
   "id": "f4393b49",
   "metadata": {},
   "source": [
    "### Un vistazo a los datos"
   ]
  },
  {
   "cell_type": "markdown",
   "id": "0511b60e",
   "metadata": {},
   "source": [
    "Para la obtención de algunos detalles sobre cómo está estructurada la base de datos, utilizaremos la función `glimpse()` contenida dentro del paquete **dplyr**.\n",
    "Esta función nos brinda información sobre:\n",
    "\n",
    "-El número de filas (observaciones) y columnas (variables) que presenta la base de datos.\n",
    "\n",
    "-La naturaleza de los elementos de cada variable (columna): \\<*ord*\\> , \\<*fct*\\>, \\<*dbl*\\>.\n",
    "\n",
    "-Contenido de cada variable (columna) en forma de lista.\n",
    "\n",
    "Es importante también identificar la presencia de valores perdidos o \"NA values\" para que no generen conflictos al momento de realizar análisis estadísticos posteriores, para ello usaremos la función `is.na().`"
   ]
  },
  {
   "cell_type": "code",
   "execution_count": 23,
   "id": "d28bdd30",
   "metadata": {
    "scrolled": true
   },
   "outputs": [
    {
     "name": "stdout",
     "output_type": "stream",
     "text": [
      "Observations: 84\n",
      "Variables: 5\n",
      "$ Plant     <ord> Qn1, Qn1, Qn1, Qn1, Qn1, Qn1, Qn1, Qn2, Qn2, Qn2, Qn2, Qn...\n",
      "$ Type      <fct> Quebec, Quebec, Quebec, Quebec, Quebec, Quebec, Quebec, Q...\n",
      "$ Treatment <fct> nonchilled, nonchilled, nonchilled, nonchilled, nonchille...\n",
      "$ conc      <dbl> 95, 175, 250, 350, 500, 675, 1000, 95, 175, 250, 350, 500...\n",
      "$ uptake    <dbl> 16.0, 30.4, 34.8, 37.2, 35.3, 39.2, 39.7, 13.6, 27.3, 37....\n"
     ]
    }
   ],
   "source": [
    "glimpse(CO2)"
   ]
  },
  {
   "cell_type": "code",
   "execution_count": 1,
   "id": "5f630eda",
   "metadata": {},
   "outputs": [
    {
     "data": {
      "text/html": [
       "<table>\n",
       "<thead><tr><th scope=col>Plant</th><th scope=col>Type</th><th scope=col>Treatment</th><th scope=col>conc</th><th scope=col>uptake</th></tr></thead>\n",
       "<tbody>\n",
       "\t<tr><td>FALSE</td><td>FALSE</td><td>FALSE</td><td>FALSE</td><td>FALSE</td></tr>\n",
       "\t<tr><td>FALSE</td><td>FALSE</td><td>FALSE</td><td>FALSE</td><td>FALSE</td></tr>\n",
       "\t<tr><td>FALSE</td><td>FALSE</td><td>FALSE</td><td>FALSE</td><td>FALSE</td></tr>\n",
       "\t<tr><td>FALSE</td><td>FALSE</td><td>FALSE</td><td>FALSE</td><td>FALSE</td></tr>\n",
       "\t<tr><td>FALSE</td><td>FALSE</td><td>FALSE</td><td>FALSE</td><td>FALSE</td></tr>\n",
       "\t<tr><td>FALSE</td><td>FALSE</td><td>FALSE</td><td>FALSE</td><td>FALSE</td></tr>\n",
       "\t<tr><td>FALSE</td><td>FALSE</td><td>FALSE</td><td>FALSE</td><td>FALSE</td></tr>\n",
       "\t<tr><td>FALSE</td><td>FALSE</td><td>FALSE</td><td>FALSE</td><td>FALSE</td></tr>\n",
       "\t<tr><td>FALSE</td><td>FALSE</td><td>FALSE</td><td>FALSE</td><td>FALSE</td></tr>\n",
       "\t<tr><td>FALSE</td><td>FALSE</td><td>FALSE</td><td>FALSE</td><td>FALSE</td></tr>\n",
       "\t<tr><td>FALSE</td><td>FALSE</td><td>FALSE</td><td>FALSE</td><td>FALSE</td></tr>\n",
       "\t<tr><td>FALSE</td><td>FALSE</td><td>FALSE</td><td>FALSE</td><td>FALSE</td></tr>\n",
       "\t<tr><td>FALSE</td><td>FALSE</td><td>FALSE</td><td>FALSE</td><td>FALSE</td></tr>\n",
       "\t<tr><td>FALSE</td><td>FALSE</td><td>FALSE</td><td>FALSE</td><td>FALSE</td></tr>\n",
       "\t<tr><td>FALSE</td><td>FALSE</td><td>FALSE</td><td>FALSE</td><td>FALSE</td></tr>\n",
       "\t<tr><td>FALSE</td><td>FALSE</td><td>FALSE</td><td>FALSE</td><td>FALSE</td></tr>\n",
       "\t<tr><td>FALSE</td><td>FALSE</td><td>FALSE</td><td>FALSE</td><td>FALSE</td></tr>\n",
       "\t<tr><td>FALSE</td><td>FALSE</td><td>FALSE</td><td>FALSE</td><td>FALSE</td></tr>\n",
       "\t<tr><td>FALSE</td><td>FALSE</td><td>FALSE</td><td>FALSE</td><td>FALSE</td></tr>\n",
       "\t<tr><td>FALSE</td><td>FALSE</td><td>FALSE</td><td>FALSE</td><td>FALSE</td></tr>\n",
       "\t<tr><td>FALSE</td><td>FALSE</td><td>FALSE</td><td>FALSE</td><td>FALSE</td></tr>\n",
       "\t<tr><td>FALSE</td><td>FALSE</td><td>FALSE</td><td>FALSE</td><td>FALSE</td></tr>\n",
       "\t<tr><td>FALSE</td><td>FALSE</td><td>FALSE</td><td>FALSE</td><td>FALSE</td></tr>\n",
       "\t<tr><td>FALSE</td><td>FALSE</td><td>FALSE</td><td>FALSE</td><td>FALSE</td></tr>\n",
       "\t<tr><td>FALSE</td><td>FALSE</td><td>FALSE</td><td>FALSE</td><td>FALSE</td></tr>\n",
       "\t<tr><td>FALSE</td><td>FALSE</td><td>FALSE</td><td>FALSE</td><td>FALSE</td></tr>\n",
       "\t<tr><td>FALSE</td><td>FALSE</td><td>FALSE</td><td>FALSE</td><td>FALSE</td></tr>\n",
       "\t<tr><td>FALSE</td><td>FALSE</td><td>FALSE</td><td>FALSE</td><td>FALSE</td></tr>\n",
       "\t<tr><td>FALSE</td><td>FALSE</td><td>FALSE</td><td>FALSE</td><td>FALSE</td></tr>\n",
       "\t<tr><td>FALSE</td><td>FALSE</td><td>FALSE</td><td>FALSE</td><td>FALSE</td></tr>\n",
       "\t<tr><td>...</td><td>...</td><td>...</td><td>...</td><td>...</td></tr>\n",
       "\t<tr><td>FALSE</td><td>FALSE</td><td>FALSE</td><td>FALSE</td><td>FALSE</td></tr>\n",
       "\t<tr><td>FALSE</td><td>FALSE</td><td>FALSE</td><td>FALSE</td><td>FALSE</td></tr>\n",
       "\t<tr><td>FALSE</td><td>FALSE</td><td>FALSE</td><td>FALSE</td><td>FALSE</td></tr>\n",
       "\t<tr><td>FALSE</td><td>FALSE</td><td>FALSE</td><td>FALSE</td><td>FALSE</td></tr>\n",
       "\t<tr><td>FALSE</td><td>FALSE</td><td>FALSE</td><td>FALSE</td><td>FALSE</td></tr>\n",
       "\t<tr><td>FALSE</td><td>FALSE</td><td>FALSE</td><td>FALSE</td><td>FALSE</td></tr>\n",
       "\t<tr><td>FALSE</td><td>FALSE</td><td>FALSE</td><td>FALSE</td><td>FALSE</td></tr>\n",
       "\t<tr><td>FALSE</td><td>FALSE</td><td>FALSE</td><td>FALSE</td><td>FALSE</td></tr>\n",
       "\t<tr><td>FALSE</td><td>FALSE</td><td>FALSE</td><td>FALSE</td><td>FALSE</td></tr>\n",
       "\t<tr><td>FALSE</td><td>FALSE</td><td>FALSE</td><td>FALSE</td><td>FALSE</td></tr>\n",
       "\t<tr><td>FALSE</td><td>FALSE</td><td>FALSE</td><td>FALSE</td><td>FALSE</td></tr>\n",
       "\t<tr><td>FALSE</td><td>FALSE</td><td>FALSE</td><td>FALSE</td><td>FALSE</td></tr>\n",
       "\t<tr><td>FALSE</td><td>FALSE</td><td>FALSE</td><td>FALSE</td><td>FALSE</td></tr>\n",
       "\t<tr><td>FALSE</td><td>FALSE</td><td>FALSE</td><td>FALSE</td><td>FALSE</td></tr>\n",
       "\t<tr><td>FALSE</td><td>FALSE</td><td>FALSE</td><td>FALSE</td><td>FALSE</td></tr>\n",
       "\t<tr><td>FALSE</td><td>FALSE</td><td>FALSE</td><td>FALSE</td><td>FALSE</td></tr>\n",
       "\t<tr><td>FALSE</td><td>FALSE</td><td>FALSE</td><td>FALSE</td><td>FALSE</td></tr>\n",
       "\t<tr><td>FALSE</td><td>FALSE</td><td>FALSE</td><td>FALSE</td><td>FALSE</td></tr>\n",
       "\t<tr><td>FALSE</td><td>FALSE</td><td>FALSE</td><td>FALSE</td><td>FALSE</td></tr>\n",
       "\t<tr><td>FALSE</td><td>FALSE</td><td>FALSE</td><td>FALSE</td><td>FALSE</td></tr>\n",
       "\t<tr><td>FALSE</td><td>FALSE</td><td>FALSE</td><td>FALSE</td><td>FALSE</td></tr>\n",
       "\t<tr><td>FALSE</td><td>FALSE</td><td>FALSE</td><td>FALSE</td><td>FALSE</td></tr>\n",
       "\t<tr><td>FALSE</td><td>FALSE</td><td>FALSE</td><td>FALSE</td><td>FALSE</td></tr>\n",
       "\t<tr><td>FALSE</td><td>FALSE</td><td>FALSE</td><td>FALSE</td><td>FALSE</td></tr>\n",
       "\t<tr><td>FALSE</td><td>FALSE</td><td>FALSE</td><td>FALSE</td><td>FALSE</td></tr>\n",
       "\t<tr><td>FALSE</td><td>FALSE</td><td>FALSE</td><td>FALSE</td><td>FALSE</td></tr>\n",
       "\t<tr><td>FALSE</td><td>FALSE</td><td>FALSE</td><td>FALSE</td><td>FALSE</td></tr>\n",
       "\t<tr><td>FALSE</td><td>FALSE</td><td>FALSE</td><td>FALSE</td><td>FALSE</td></tr>\n",
       "\t<tr><td>FALSE</td><td>FALSE</td><td>FALSE</td><td>FALSE</td><td>FALSE</td></tr>\n",
       "\t<tr><td>FALSE</td><td>FALSE</td><td>FALSE</td><td>FALSE</td><td>FALSE</td></tr>\n",
       "</tbody>\n",
       "</table>\n"
      ],
      "text/latex": [
       "\\begin{tabular}{r|lllll}\n",
       " Plant & Type & Treatment & conc & uptake\\\\\n",
       "\\hline\n",
       "\t FALSE & FALSE & FALSE & FALSE & FALSE\\\\\n",
       "\t FALSE & FALSE & FALSE & FALSE & FALSE\\\\\n",
       "\t FALSE & FALSE & FALSE & FALSE & FALSE\\\\\n",
       "\t FALSE & FALSE & FALSE & FALSE & FALSE\\\\\n",
       "\t FALSE & FALSE & FALSE & FALSE & FALSE\\\\\n",
       "\t FALSE & FALSE & FALSE & FALSE & FALSE\\\\\n",
       "\t FALSE & FALSE & FALSE & FALSE & FALSE\\\\\n",
       "\t FALSE & FALSE & FALSE & FALSE & FALSE\\\\\n",
       "\t FALSE & FALSE & FALSE & FALSE & FALSE\\\\\n",
       "\t FALSE & FALSE & FALSE & FALSE & FALSE\\\\\n",
       "\t FALSE & FALSE & FALSE & FALSE & FALSE\\\\\n",
       "\t FALSE & FALSE & FALSE & FALSE & FALSE\\\\\n",
       "\t FALSE & FALSE & FALSE & FALSE & FALSE\\\\\n",
       "\t FALSE & FALSE & FALSE & FALSE & FALSE\\\\\n",
       "\t FALSE & FALSE & FALSE & FALSE & FALSE\\\\\n",
       "\t FALSE & FALSE & FALSE & FALSE & FALSE\\\\\n",
       "\t FALSE & FALSE & FALSE & FALSE & FALSE\\\\\n",
       "\t FALSE & FALSE & FALSE & FALSE & FALSE\\\\\n",
       "\t FALSE & FALSE & FALSE & FALSE & FALSE\\\\\n",
       "\t FALSE & FALSE & FALSE & FALSE & FALSE\\\\\n",
       "\t FALSE & FALSE & FALSE & FALSE & FALSE\\\\\n",
       "\t FALSE & FALSE & FALSE & FALSE & FALSE\\\\\n",
       "\t FALSE & FALSE & FALSE & FALSE & FALSE\\\\\n",
       "\t FALSE & FALSE & FALSE & FALSE & FALSE\\\\\n",
       "\t FALSE & FALSE & FALSE & FALSE & FALSE\\\\\n",
       "\t FALSE & FALSE & FALSE & FALSE & FALSE\\\\\n",
       "\t FALSE & FALSE & FALSE & FALSE & FALSE\\\\\n",
       "\t FALSE & FALSE & FALSE & FALSE & FALSE\\\\\n",
       "\t FALSE & FALSE & FALSE & FALSE & FALSE\\\\\n",
       "\t FALSE & FALSE & FALSE & FALSE & FALSE\\\\\n",
       "\t ... & ... & ... & ... & ...\\\\\n",
       "\t FALSE & FALSE & FALSE & FALSE & FALSE\\\\\n",
       "\t FALSE & FALSE & FALSE & FALSE & FALSE\\\\\n",
       "\t FALSE & FALSE & FALSE & FALSE & FALSE\\\\\n",
       "\t FALSE & FALSE & FALSE & FALSE & FALSE\\\\\n",
       "\t FALSE & FALSE & FALSE & FALSE & FALSE\\\\\n",
       "\t FALSE & FALSE & FALSE & FALSE & FALSE\\\\\n",
       "\t FALSE & FALSE & FALSE & FALSE & FALSE\\\\\n",
       "\t FALSE & FALSE & FALSE & FALSE & FALSE\\\\\n",
       "\t FALSE & FALSE & FALSE & FALSE & FALSE\\\\\n",
       "\t FALSE & FALSE & FALSE & FALSE & FALSE\\\\\n",
       "\t FALSE & FALSE & FALSE & FALSE & FALSE\\\\\n",
       "\t FALSE & FALSE & FALSE & FALSE & FALSE\\\\\n",
       "\t FALSE & FALSE & FALSE & FALSE & FALSE\\\\\n",
       "\t FALSE & FALSE & FALSE & FALSE & FALSE\\\\\n",
       "\t FALSE & FALSE & FALSE & FALSE & FALSE\\\\\n",
       "\t FALSE & FALSE & FALSE & FALSE & FALSE\\\\\n",
       "\t FALSE & FALSE & FALSE & FALSE & FALSE\\\\\n",
       "\t FALSE & FALSE & FALSE & FALSE & FALSE\\\\\n",
       "\t FALSE & FALSE & FALSE & FALSE & FALSE\\\\\n",
       "\t FALSE & FALSE & FALSE & FALSE & FALSE\\\\\n",
       "\t FALSE & FALSE & FALSE & FALSE & FALSE\\\\\n",
       "\t FALSE & FALSE & FALSE & FALSE & FALSE\\\\\n",
       "\t FALSE & FALSE & FALSE & FALSE & FALSE\\\\\n",
       "\t FALSE & FALSE & FALSE & FALSE & FALSE\\\\\n",
       "\t FALSE & FALSE & FALSE & FALSE & FALSE\\\\\n",
       "\t FALSE & FALSE & FALSE & FALSE & FALSE\\\\\n",
       "\t FALSE & FALSE & FALSE & FALSE & FALSE\\\\\n",
       "\t FALSE & FALSE & FALSE & FALSE & FALSE\\\\\n",
       "\t FALSE & FALSE & FALSE & FALSE & FALSE\\\\\n",
       "\t FALSE & FALSE & FALSE & FALSE & FALSE\\\\\n",
       "\\end{tabular}\n"
      ],
      "text/markdown": [
       "\n",
       "| Plant | Type | Treatment | conc | uptake |\n",
       "|---|---|---|---|---|\n",
       "| FALSE | FALSE | FALSE | FALSE | FALSE |\n",
       "| FALSE | FALSE | FALSE | FALSE | FALSE |\n",
       "| FALSE | FALSE | FALSE | FALSE | FALSE |\n",
       "| FALSE | FALSE | FALSE | FALSE | FALSE |\n",
       "| FALSE | FALSE | FALSE | FALSE | FALSE |\n",
       "| FALSE | FALSE | FALSE | FALSE | FALSE |\n",
       "| FALSE | FALSE | FALSE | FALSE | FALSE |\n",
       "| FALSE | FALSE | FALSE | FALSE | FALSE |\n",
       "| FALSE | FALSE | FALSE | FALSE | FALSE |\n",
       "| FALSE | FALSE | FALSE | FALSE | FALSE |\n",
       "| FALSE | FALSE | FALSE | FALSE | FALSE |\n",
       "| FALSE | FALSE | FALSE | FALSE | FALSE |\n",
       "| FALSE | FALSE | FALSE | FALSE | FALSE |\n",
       "| FALSE | FALSE | FALSE | FALSE | FALSE |\n",
       "| FALSE | FALSE | FALSE | FALSE | FALSE |\n",
       "| FALSE | FALSE | FALSE | FALSE | FALSE |\n",
       "| FALSE | FALSE | FALSE | FALSE | FALSE |\n",
       "| FALSE | FALSE | FALSE | FALSE | FALSE |\n",
       "| FALSE | FALSE | FALSE | FALSE | FALSE |\n",
       "| FALSE | FALSE | FALSE | FALSE | FALSE |\n",
       "| FALSE | FALSE | FALSE | FALSE | FALSE |\n",
       "| FALSE | FALSE | FALSE | FALSE | FALSE |\n",
       "| FALSE | FALSE | FALSE | FALSE | FALSE |\n",
       "| FALSE | FALSE | FALSE | FALSE | FALSE |\n",
       "| FALSE | FALSE | FALSE | FALSE | FALSE |\n",
       "| FALSE | FALSE | FALSE | FALSE | FALSE |\n",
       "| FALSE | FALSE | FALSE | FALSE | FALSE |\n",
       "| FALSE | FALSE | FALSE | FALSE | FALSE |\n",
       "| FALSE | FALSE | FALSE | FALSE | FALSE |\n",
       "| FALSE | FALSE | FALSE | FALSE | FALSE |\n",
       "| ... | ... | ... | ... | ... |\n",
       "| FALSE | FALSE | FALSE | FALSE | FALSE |\n",
       "| FALSE | FALSE | FALSE | FALSE | FALSE |\n",
       "| FALSE | FALSE | FALSE | FALSE | FALSE |\n",
       "| FALSE | FALSE | FALSE | FALSE | FALSE |\n",
       "| FALSE | FALSE | FALSE | FALSE | FALSE |\n",
       "| FALSE | FALSE | FALSE | FALSE | FALSE |\n",
       "| FALSE | FALSE | FALSE | FALSE | FALSE |\n",
       "| FALSE | FALSE | FALSE | FALSE | FALSE |\n",
       "| FALSE | FALSE | FALSE | FALSE | FALSE |\n",
       "| FALSE | FALSE | FALSE | FALSE | FALSE |\n",
       "| FALSE | FALSE | FALSE | FALSE | FALSE |\n",
       "| FALSE | FALSE | FALSE | FALSE | FALSE |\n",
       "| FALSE | FALSE | FALSE | FALSE | FALSE |\n",
       "| FALSE | FALSE | FALSE | FALSE | FALSE |\n",
       "| FALSE | FALSE | FALSE | FALSE | FALSE |\n",
       "| FALSE | FALSE | FALSE | FALSE | FALSE |\n",
       "| FALSE | FALSE | FALSE | FALSE | FALSE |\n",
       "| FALSE | FALSE | FALSE | FALSE | FALSE |\n",
       "| FALSE | FALSE | FALSE | FALSE | FALSE |\n",
       "| FALSE | FALSE | FALSE | FALSE | FALSE |\n",
       "| FALSE | FALSE | FALSE | FALSE | FALSE |\n",
       "| FALSE | FALSE | FALSE | FALSE | FALSE |\n",
       "| FALSE | FALSE | FALSE | FALSE | FALSE |\n",
       "| FALSE | FALSE | FALSE | FALSE | FALSE |\n",
       "| FALSE | FALSE | FALSE | FALSE | FALSE |\n",
       "| FALSE | FALSE | FALSE | FALSE | FALSE |\n",
       "| FALSE | FALSE | FALSE | FALSE | FALSE |\n",
       "| FALSE | FALSE | FALSE | FALSE | FALSE |\n",
       "| FALSE | FALSE | FALSE | FALSE | FALSE |\n",
       "| FALSE | FALSE | FALSE | FALSE | FALSE |\n",
       "\n"
      ],
      "text/plain": [
       "    Plant Type  Treatment conc  uptake\n",
       "1   FALSE FALSE FALSE     FALSE FALSE \n",
       "2   FALSE FALSE FALSE     FALSE FALSE \n",
       "3   FALSE FALSE FALSE     FALSE FALSE \n",
       "4   FALSE FALSE FALSE     FALSE FALSE \n",
       "5   FALSE FALSE FALSE     FALSE FALSE \n",
       "6   FALSE FALSE FALSE     FALSE FALSE \n",
       "7   FALSE FALSE FALSE     FALSE FALSE \n",
       "8   FALSE FALSE FALSE     FALSE FALSE \n",
       "9   FALSE FALSE FALSE     FALSE FALSE \n",
       "10  FALSE FALSE FALSE     FALSE FALSE \n",
       "11  FALSE FALSE FALSE     FALSE FALSE \n",
       "12  FALSE FALSE FALSE     FALSE FALSE \n",
       "13  FALSE FALSE FALSE     FALSE FALSE \n",
       "14  FALSE FALSE FALSE     FALSE FALSE \n",
       "15  FALSE FALSE FALSE     FALSE FALSE \n",
       "16  FALSE FALSE FALSE     FALSE FALSE \n",
       "17  FALSE FALSE FALSE     FALSE FALSE \n",
       "18  FALSE FALSE FALSE     FALSE FALSE \n",
       "19  FALSE FALSE FALSE     FALSE FALSE \n",
       "20  FALSE FALSE FALSE     FALSE FALSE \n",
       "21  FALSE FALSE FALSE     FALSE FALSE \n",
       "22  FALSE FALSE FALSE     FALSE FALSE \n",
       "23  FALSE FALSE FALSE     FALSE FALSE \n",
       "24  FALSE FALSE FALSE     FALSE FALSE \n",
       "25  FALSE FALSE FALSE     FALSE FALSE \n",
       "26  FALSE FALSE FALSE     FALSE FALSE \n",
       "27  FALSE FALSE FALSE     FALSE FALSE \n",
       "28  FALSE FALSE FALSE     FALSE FALSE \n",
       "29  FALSE FALSE FALSE     FALSE FALSE \n",
       "30  FALSE FALSE FALSE     FALSE FALSE \n",
       "... ...   ...   ...       ...   ...   \n",
       "55  FALSE FALSE FALSE     FALSE FALSE \n",
       "56  FALSE FALSE FALSE     FALSE FALSE \n",
       "57  FALSE FALSE FALSE     FALSE FALSE \n",
       "58  FALSE FALSE FALSE     FALSE FALSE \n",
       "59  FALSE FALSE FALSE     FALSE FALSE \n",
       "60  FALSE FALSE FALSE     FALSE FALSE \n",
       "61  FALSE FALSE FALSE     FALSE FALSE \n",
       "62  FALSE FALSE FALSE     FALSE FALSE \n",
       "63  FALSE FALSE FALSE     FALSE FALSE \n",
       "64  FALSE FALSE FALSE     FALSE FALSE \n",
       "65  FALSE FALSE FALSE     FALSE FALSE \n",
       "66  FALSE FALSE FALSE     FALSE FALSE \n",
       "67  FALSE FALSE FALSE     FALSE FALSE \n",
       "68  FALSE FALSE FALSE     FALSE FALSE \n",
       "69  FALSE FALSE FALSE     FALSE FALSE \n",
       "70  FALSE FALSE FALSE     FALSE FALSE \n",
       "71  FALSE FALSE FALSE     FALSE FALSE \n",
       "72  FALSE FALSE FALSE     FALSE FALSE \n",
       "73  FALSE FALSE FALSE     FALSE FALSE \n",
       "74  FALSE FALSE FALSE     FALSE FALSE \n",
       "75  FALSE FALSE FALSE     FALSE FALSE \n",
       "76  FALSE FALSE FALSE     FALSE FALSE \n",
       "77  FALSE FALSE FALSE     FALSE FALSE \n",
       "78  FALSE FALSE FALSE     FALSE FALSE \n",
       "79  FALSE FALSE FALSE     FALSE FALSE \n",
       "80  FALSE FALSE FALSE     FALSE FALSE \n",
       "81  FALSE FALSE FALSE     FALSE FALSE \n",
       "82  FALSE FALSE FALSE     FALSE FALSE \n",
       "83  FALSE FALSE FALSE     FALSE FALSE \n",
       "84  FALSE FALSE FALSE     FALSE FALSE "
      ]
     },
     "metadata": {},
     "output_type": "display_data"
    }
   ],
   "source": [
    "is.na(CO2)"
   ]
  },
  {
   "cell_type": "markdown",
   "id": "1126397e",
   "metadata": {},
   "source": [
    "### Análisis de varaibles categóricas"
   ]
  },
  {
   "cell_type": "markdown",
   "id": "8b67fdd1",
   "metadata": {},
   "source": [
    "Para las variables categóricas podemos calcular tablas de frecuencia, es decir, ver el número de ocurrenciass de cada categoría de la variable. Esto lo hacemos con la función `table()`"
   ]
  },
  {
   "cell_type": "code",
   "execution_count": 3,
   "id": "de28e085",
   "metadata": {},
   "outputs": [
    {
     "data": {
      "text/plain": [
       "\n",
       "Qn1 Qn2 Qn3 Qc1 Qc3 Qc2 Mn3 Mn2 Mn1 Mc2 Mc3 Mc1 \n",
       "  7   7   7   7   7   7   7   7   7   7   7   7 "
      ]
     },
     "metadata": {},
     "output_type": "display_data"
    },
    {
     "data": {
      "text/plain": [
       "\n",
       "     Quebec Mississippi \n",
       "         42          42 "
      ]
     },
     "metadata": {},
     "output_type": "display_data"
    },
    {
     "data": {
      "text/plain": [
       "\n",
       "nonchilled    chilled \n",
       "        42         42 "
      ]
     },
     "metadata": {},
     "output_type": "display_data"
    }
   ],
   "source": [
    "table(CO2$Plant)\n",
    "table(CO2$Type)\n",
    "table(CO2$Treatment)"
   ]
  },
  {
   "cell_type": "markdown",
   "id": "e569f5c2",
   "metadata": {},
   "source": [
    "#### Tablas de contingencia"
   ]
  },
  {
   "cell_type": "markdown",
   "id": "6e4ede78",
   "metadata": {},
   "source": [
    "Para poder evaluar la frecuencia de dos variables cateóricas podemos utilizar tablas de contingencia. Esto lo hacemos con la función `prop.table()`"
   ]
  },
  {
   "cell_type": "code",
   "execution_count": 4,
   "id": "78b91558",
   "metadata": {},
   "outputs": [
    {
     "data": {
      "text/plain": [
       "     \n",
       "        Quebec Mississippi\n",
       "  Qn1 16.66667     0.00000\n",
       "  Qn2 16.66667     0.00000\n",
       "  Qn3 16.66667     0.00000\n",
       "  Qc1 16.66667     0.00000\n",
       "  Qc3 16.66667     0.00000\n",
       "  Qc2 16.66667     0.00000\n",
       "  Mn3  0.00000    16.66667\n",
       "  Mn2  0.00000    16.66667\n",
       "  Mn1  0.00000    16.66667\n",
       "  Mc2  0.00000    16.66667\n",
       "  Mc3  0.00000    16.66667\n",
       "  Mc1  0.00000    16.66667"
      ]
     },
     "metadata": {},
     "output_type": "display_data"
    },
    {
     "data": {
      "text/plain": [
       "             \n",
       "              nonchilled chilled\n",
       "  Quebec              50      50\n",
       "  Mississippi         50      50"
      ]
     },
     "metadata": {},
     "output_type": "display_data"
    },
    {
     "data": {
      "text/plain": [
       "     \n",
       "      nonchilled  chilled\n",
       "  Qn1   16.66667  0.00000\n",
       "  Qn2   16.66667  0.00000\n",
       "  Qn3   16.66667  0.00000\n",
       "  Qc1    0.00000 16.66667\n",
       "  Qc3    0.00000 16.66667\n",
       "  Qc2    0.00000 16.66667\n",
       "  Mn3   16.66667  0.00000\n",
       "  Mn2   16.66667  0.00000\n",
       "  Mn1   16.66667  0.00000\n",
       "  Mc2    0.00000 16.66667\n",
       "  Mc3    0.00000 16.66667\n",
       "  Mc1    0.00000 16.66667"
      ]
     },
     "metadata": {},
     "output_type": "display_data"
    }
   ],
   "source": [
    "Plant_vs_Type <- prop.table(table(CO2$Plant, CO2$Type),2)*100\n",
    "Plant_vs_Type\n",
    "Type_vs_Treatment <- prop.table(table(CO2$Type, CO2$Treatment),2)*100\n",
    "Type_vs_Treatment\n",
    "Plant_vs_Treatment <- prop.table(table(CO2$Plant, CO2$Treatment),2)*100\n",
    "Plant_vs_Treatment"
   ]
  },
  {
   "cell_type": "markdown",
   "id": "3ea38be3",
   "metadata": {},
   "source": [
    "### Análisis de varaibles numéricas"
   ]
  },
  {
   "cell_type": "markdown",
   "id": "5a9d00d8",
   "metadata": {},
   "source": [
    "Para caluclar los estadísticos descriptivos de las variables numéricas utilziaremos la función `summary`. Esta función se puede aplicar a toda base de datos o solo a variables específicas dentro de mi base de datos. Los valores que nos brinda son:\n",
    "-Valor mínimo\n",
    "-Valor del 1er cuartil\n",
    "-Mediana\n",
    "-Promedio\n",
    "-Valor del 3er cuartil\n",
    "-Valor máximo"
   ]
  },
  {
   "cell_type": "code",
   "execution_count": 5,
   "id": "3486ba22",
   "metadata": {},
   "outputs": [
    {
     "data": {
      "text/plain": [
       "   Min. 1st Qu.  Median    Mean 3rd Qu.    Max. \n",
       "     95     175     350     435     675    1000 "
      ]
     },
     "metadata": {},
     "output_type": "display_data"
    },
    {
     "data": {
      "text/plain": [
       "   Min. 1st Qu.  Median    Mean 3rd Qu.    Max. \n",
       "   7.70   17.90   28.30   27.21   37.12   45.50 "
      ]
     },
     "metadata": {},
     "output_type": "display_data"
    }
   ],
   "source": [
    "summary(CO2$conc)\n",
    "summary(CO2$uptake)"
   ]
  },
  {
   "cell_type": "markdown",
   "id": "5886273f",
   "metadata": {},
   "source": [
    "### Visualización de datos numéricos"
   ]
  },
  {
   "cell_type": "markdown",
   "id": "e801f3d4",
   "metadata": {},
   "source": [
    "Una forma útil de explorar la distribución de los datos en variables numéricas es con histogramas. Estos podemos hacerlos con el comando `hist()`, donde ponemos como argumento el nombre de la tabla seguido de `$` y el nombre de la variable que deseamos graficar."
   ]
  },
  {
   "cell_type": "code",
   "execution_count": 6,
   "id": "cd58a27f",
   "metadata": {},
   "outputs": [
    {
     "data": {
      "image/png": "[encoded data removed]",
      "text/plain": [
       "Plot with title \"Histogram\""
      ]
     },
     "metadata": {},
     "output_type": "display_data"
    },
    {
     "data": {
      "image/png": "[encoded data removed]",
      "text/plain": [
       "Plot with title \"Histogram\""
      ]
     },
     "metadata": {},
     "output_type": "display_data"
    }
   ],
   "source": [
    "hist(CO2$conc, col = \"pink\", border = \"red\", xlab =\"Concentration (ml/L)\", main = \"Histogram\")\n",
    "hist(CO2$uptake, col = \"gray\", border =\"black\", xlab =\"Uptake (umol/m^2 sec)\", main = \"Histogram\")"
   ]
  },
  {
   "cell_type": "markdown",
   "id": "9f32a67f",
   "metadata": {},
   "source": [
    "### Correlaciones"
   ]
  },
  {
   "cell_type": "markdown",
   "id": "4c32c61b",
   "metadata": {},
   "source": [
    "Una correlación mide la relación lineal entre dos variables. De esta manera podemos establecer si una variable está influenciada por otra de forma positiva o negativa.\n",
    "\n",
    "El resultado de este análisis es un coeficiente que va de -1 a 1\n",
    "\n",
    "-R = 1, la relación es positiva perfecta\n",
    "\n",
    "-0 \\< R \\< 1 la relación es positiva\n",
    "\n",
    "-R = 0 no hay relación lineal\n",
    "\n",
    "--1 \\< R \\< 0 la relación es negativa\n",
    "\n",
    "-R = -1 la relación es negativa perfecta\n",
    "\n",
    "![](https://drive.google.com/uc?export=view&id=1vXa-1AdkFIEbg9o_-4MoXejbeopMxrfq)"
   ]
  },
  {
   "cell_type": "code",
   "execution_count": 7,
   "id": "8e713ec2",
   "metadata": {},
   "outputs": [
    {
     "data": {
      "text/html": [
       "0.48517739653091"
      ],
      "text/latex": [
       "0.48517739653091"
      ],
      "text/markdown": [
       "0.48517739653091"
      ],
      "text/plain": [
       "[1] 0.4851774"
      ]
     },
     "metadata": {},
     "output_type": "display_data"
    }
   ],
   "source": [
    "#Cálculo del coeficiente de correlación para las dos variables numéricas\n",
    "cor(CO2$conc, CO2$uptake)"
   ]
  },
  {
   "cell_type": "code",
   "execution_count": 8,
   "id": "d7559ef5",
   "metadata": {},
   "outputs": [
    {
     "data": {
      "text/html": [
       "<table>\n",
       "<thead><tr><th scope=col>Concentration</th><th scope=col>Uptake</th></tr></thead>\n",
       "<tbody>\n",
       "\t<tr><td>  95</td><td>16.0</td></tr>\n",
       "\t<tr><td> 175</td><td>30.4</td></tr>\n",
       "\t<tr><td> 250</td><td>34.8</td></tr>\n",
       "\t<tr><td> 350</td><td>37.2</td></tr>\n",
       "\t<tr><td> 500</td><td>35.3</td></tr>\n",
       "\t<tr><td> 675</td><td>39.2</td></tr>\n",
       "\t<tr><td>1000</td><td>39.7</td></tr>\n",
       "\t<tr><td>  95</td><td>13.6</td></tr>\n",
       "\t<tr><td> 175</td><td>27.3</td></tr>\n",
       "\t<tr><td> 250</td><td>37.1</td></tr>\n",
       "\t<tr><td> 350</td><td>41.8</td></tr>\n",
       "\t<tr><td> 500</td><td>40.6</td></tr>\n",
       "\t<tr><td> 675</td><td>41.4</td></tr>\n",
       "\t<tr><td>1000</td><td>44.3</td></tr>\n",
       "\t<tr><td>  95</td><td>16.2</td></tr>\n",
       "\t<tr><td> 175</td><td>32.4</td></tr>\n",
       "\t<tr><td> 250</td><td>40.3</td></tr>\n",
       "\t<tr><td> 350</td><td>42.1</td></tr>\n",
       "\t<tr><td> 500</td><td>42.9</td></tr>\n",
       "\t<tr><td> 675</td><td>43.9</td></tr>\n",
       "\t<tr><td>1000</td><td>45.5</td></tr>\n",
       "\t<tr><td>  95</td><td>14.2</td></tr>\n",
       "\t<tr><td> 175</td><td>24.1</td></tr>\n",
       "\t<tr><td> 250</td><td>30.3</td></tr>\n",
       "\t<tr><td> 350</td><td>34.6</td></tr>\n",
       "\t<tr><td> 500</td><td>32.5</td></tr>\n",
       "\t<tr><td> 675</td><td>35.4</td></tr>\n",
       "\t<tr><td>1000</td><td>38.7</td></tr>\n",
       "\t<tr><td>  95</td><td> 9.3</td></tr>\n",
       "\t<tr><td> 175</td><td>27.3</td></tr>\n",
       "\t<tr><td>...</td><td>...</td></tr>\n",
       "\t<tr><td> 675</td><td>31.1</td></tr>\n",
       "\t<tr><td>1000</td><td>31.5</td></tr>\n",
       "\t<tr><td>  95</td><td>11.3</td></tr>\n",
       "\t<tr><td> 175</td><td>19.4</td></tr>\n",
       "\t<tr><td> 250</td><td>25.8</td></tr>\n",
       "\t<tr><td> 350</td><td>27.9</td></tr>\n",
       "\t<tr><td> 500</td><td>28.5</td></tr>\n",
       "\t<tr><td> 675</td><td>28.1</td></tr>\n",
       "\t<tr><td>1000</td><td>27.8</td></tr>\n",
       "\t<tr><td>  95</td><td>10.5</td></tr>\n",
       "\t<tr><td> 175</td><td>14.9</td></tr>\n",
       "\t<tr><td> 250</td><td>18.1</td></tr>\n",
       "\t<tr><td> 350</td><td>18.9</td></tr>\n",
       "\t<tr><td> 500</td><td>19.5</td></tr>\n",
       "\t<tr><td> 675</td><td>22.2</td></tr>\n",
       "\t<tr><td>1000</td><td>21.9</td></tr>\n",
       "\t<tr><td>  95</td><td> 7.7</td></tr>\n",
       "\t<tr><td> 175</td><td>11.4</td></tr>\n",
       "\t<tr><td> 250</td><td>12.3</td></tr>\n",
       "\t<tr><td> 350</td><td>13.0</td></tr>\n",
       "\t<tr><td> 500</td><td>12.5</td></tr>\n",
       "\t<tr><td> 675</td><td>13.7</td></tr>\n",
       "\t<tr><td>1000</td><td>14.4</td></tr>\n",
       "\t<tr><td>  95</td><td>10.6</td></tr>\n",
       "\t<tr><td> 175</td><td>18.0</td></tr>\n",
       "\t<tr><td> 250</td><td>17.9</td></tr>\n",
       "\t<tr><td> 350</td><td>17.9</td></tr>\n",
       "\t<tr><td> 500</td><td>17.9</td></tr>\n",
       "\t<tr><td> 675</td><td>18.9</td></tr>\n",
       "\t<tr><td>1000</td><td>19.9</td></tr>\n",
       "</tbody>\n",
       "</table>\n"
      ],
      "text/latex": [
       "\\begin{tabular}{r|ll}\n",
       " Concentration & Uptake\\\\\n",
       "\\hline\n",
       "\t   95 & 16.0\\\\\n",
       "\t  175 & 30.4\\\\\n",
       "\t  250 & 34.8\\\\\n",
       "\t  350 & 37.2\\\\\n",
       "\t  500 & 35.3\\\\\n",
       "\t  675 & 39.2\\\\\n",
       "\t 1000 & 39.7\\\\\n",
       "\t   95 & 13.6\\\\\n",
       "\t  175 & 27.3\\\\\n",
       "\t  250 & 37.1\\\\\n",
       "\t  350 & 41.8\\\\\n",
       "\t  500 & 40.6\\\\\n",
       "\t  675 & 41.4\\\\\n",
       "\t 1000 & 44.3\\\\\n",
       "\t   95 & 16.2\\\\\n",
       "\t  175 & 32.4\\\\\n",
       "\t  250 & 40.3\\\\\n",
       "\t  350 & 42.1\\\\\n",
       "\t  500 & 42.9\\\\\n",
       "\t  675 & 43.9\\\\\n",
       "\t 1000 & 45.5\\\\\n",
       "\t   95 & 14.2\\\\\n",
       "\t  175 & 24.1\\\\\n",
       "\t  250 & 30.3\\\\\n",
       "\t  350 & 34.6\\\\\n",
       "\t  500 & 32.5\\\\\n",
       "\t  675 & 35.4\\\\\n",
       "\t 1000 & 38.7\\\\\n",
       "\t   95 &  9.3\\\\\n",
       "\t  175 & 27.3\\\\\n",
       "\t ... & ...\\\\\n",
       "\t  675 & 31.1\\\\\n",
       "\t 1000 & 31.5\\\\\n",
       "\t   95 & 11.3\\\\\n",
       "\t  175 & 19.4\\\\\n",
       "\t  250 & 25.8\\\\\n",
       "\t  350 & 27.9\\\\\n",
       "\t  500 & 28.5\\\\\n",
       "\t  675 & 28.1\\\\\n",
       "\t 1000 & 27.8\\\\\n",
       "\t   95 & 10.5\\\\\n",
       "\t  175 & 14.9\\\\\n",
       "\t  250 & 18.1\\\\\n",
       "\t  350 & 18.9\\\\\n",
       "\t  500 & 19.5\\\\\n",
       "\t  675 & 22.2\\\\\n",
       "\t 1000 & 21.9\\\\\n",
       "\t   95 &  7.7\\\\\n",
       "\t  175 & 11.4\\\\\n",
       "\t  250 & 12.3\\\\\n",
       "\t  350 & 13.0\\\\\n",
       "\t  500 & 12.5\\\\\n",
       "\t  675 & 13.7\\\\\n",
       "\t 1000 & 14.4\\\\\n",
       "\t   95 & 10.6\\\\\n",
       "\t  175 & 18.0\\\\\n",
       "\t  250 & 17.9\\\\\n",
       "\t  350 & 17.9\\\\\n",
       "\t  500 & 17.9\\\\\n",
       "\t  675 & 18.9\\\\\n",
       "\t 1000 & 19.9\\\\\n",
       "\\end{tabular}\n"
      ],
      "text/markdown": [
       "\n",
       "| Concentration | Uptake |\n",
       "|---|---|\n",
       "|   95 | 16.0 |\n",
       "|  175 | 30.4 |\n",
       "|  250 | 34.8 |\n",
       "|  350 | 37.2 |\n",
       "|  500 | 35.3 |\n",
       "|  675 | 39.2 |\n",
       "| 1000 | 39.7 |\n",
       "|   95 | 13.6 |\n",
       "|  175 | 27.3 |\n",
       "|  250 | 37.1 |\n",
       "|  350 | 41.8 |\n",
       "|  500 | 40.6 |\n",
       "|  675 | 41.4 |\n",
       "| 1000 | 44.3 |\n",
       "|   95 | 16.2 |\n",
       "|  175 | 32.4 |\n",
       "|  250 | 40.3 |\n",
       "|  350 | 42.1 |\n",
       "|  500 | 42.9 |\n",
       "|  675 | 43.9 |\n",
       "| 1000 | 45.5 |\n",
       "|   95 | 14.2 |\n",
       "|  175 | 24.1 |\n",
       "|  250 | 30.3 |\n",
       "|  350 | 34.6 |\n",
       "|  500 | 32.5 |\n",
       "|  675 | 35.4 |\n",
       "| 1000 | 38.7 |\n",
       "|   95 |  9.3 |\n",
       "|  175 | 27.3 |\n",
       "| ... | ... |\n",
       "|  675 | 31.1 |\n",
       "| 1000 | 31.5 |\n",
       "|   95 | 11.3 |\n",
       "|  175 | 19.4 |\n",
       "|  250 | 25.8 |\n",
       "|  350 | 27.9 |\n",
       "|  500 | 28.5 |\n",
       "|  675 | 28.1 |\n",
       "| 1000 | 27.8 |\n",
       "|   95 | 10.5 |\n",
       "|  175 | 14.9 |\n",
       "|  250 | 18.1 |\n",
       "|  350 | 18.9 |\n",
       "|  500 | 19.5 |\n",
       "|  675 | 22.2 |\n",
       "| 1000 | 21.9 |\n",
       "|   95 |  7.7 |\n",
       "|  175 | 11.4 |\n",
       "|  250 | 12.3 |\n",
       "|  350 | 13.0 |\n",
       "|  500 | 12.5 |\n",
       "|  675 | 13.7 |\n",
       "| 1000 | 14.4 |\n",
       "|   95 | 10.6 |\n",
       "|  175 | 18.0 |\n",
       "|  250 | 17.9 |\n",
       "|  350 | 17.9 |\n",
       "|  500 | 17.9 |\n",
       "|  675 | 18.9 |\n",
       "| 1000 | 19.9 |\n",
       "\n"
      ],
      "text/plain": [
       "    Concentration Uptake\n",
       "1     95          16.0  \n",
       "2    175          30.4  \n",
       "3    250          34.8  \n",
       "4    350          37.2  \n",
       "5    500          35.3  \n",
       "6    675          39.2  \n",
       "7   1000          39.7  \n",
       "8     95          13.6  \n",
       "9    175          27.3  \n",
       "10   250          37.1  \n",
       "11   350          41.8  \n",
       "12   500          40.6  \n",
       "13   675          41.4  \n",
       "14  1000          44.3  \n",
       "15    95          16.2  \n",
       "16   175          32.4  \n",
       "17   250          40.3  \n",
       "18   350          42.1  \n",
       "19   500          42.9  \n",
       "20   675          43.9  \n",
       "21  1000          45.5  \n",
       "22    95          14.2  \n",
       "23   175          24.1  \n",
       "24   250          30.3  \n",
       "25   350          34.6  \n",
       "26   500          32.5  \n",
       "27   675          35.4  \n",
       "28  1000          38.7  \n",
       "29    95           9.3  \n",
       "30   175          27.3  \n",
       "... ...           ...   \n",
       "55   675          31.1  \n",
       "56  1000          31.5  \n",
       "57    95          11.3  \n",
       "58   175          19.4  \n",
       "59   250          25.8  \n",
       "60   350          27.9  \n",
       "61   500          28.5  \n",
       "62   675          28.1  \n",
       "63  1000          27.8  \n",
       "64    95          10.5  \n",
       "65   175          14.9  \n",
       "66   250          18.1  \n",
       "67   350          18.9  \n",
       "68   500          19.5  \n",
       "69   675          22.2  \n",
       "70  1000          21.9  \n",
       "71    95           7.7  \n",
       "72   175          11.4  \n",
       "73   250          12.3  \n",
       "74   350          13.0  \n",
       "75   500          12.5  \n",
       "76   675          13.7  \n",
       "77  1000          14.4  \n",
       "78    95          10.6  \n",
       "79   175          18.0  \n",
       "80   250          17.9  \n",
       "81   350          17.9  \n",
       "82   500          17.9  \n",
       "83   675          18.9  \n",
       "84  1000          19.9  "
      ]
     },
     "metadata": {},
     "output_type": "display_data"
    }
   ],
   "source": [
    "cor <- data.frame(Concentration = CO2$conc, Uptake = CO2$uptake)\n",
    "cor"
   ]
  },
  {
   "cell_type": "code",
   "execution_count": 1,
   "id": "e68c4161",
   "metadata": {
    "scrolled": false
   },
   "outputs": [
    {
     "ename": "ERROR",
     "evalue": "Error in ggplot(cor, mapping = aes(x = Concentration, y = Uptake)): no se pudo encontrar la función \"ggplot\"\n",
     "output_type": "error",
     "traceback": [
      "Error in ggplot(cor, mapping = aes(x = Concentration, y = Uptake)): no se pudo encontrar la función \"ggplot\"\nTraceback:\n"
     ]
    }
   ],
   "source": [
    "#Creación de gráfica para \n",
    "ggplot(cor, mapping = aes(x = Concentration, y = Uptake)) +\n",
    "  geom_point(color=\"blue\", size = 1.5) +\n",
    "  labs(x = \"Concentration\" , y = \"Uptake\") +\n",
    "  geom_smooth(method = \"lm\", se = TRUE, color = \"red\", lwd = 0.5) +\n",
    "  theme(axis.line = element_line(colour = \"black\"), \n",
    "        panel.grid.major = element_blank(), \n",
    "        panel.grid.minor = element_blank(), \n",
    "        panel.border = element_blank(), \n",
    "        panel.background = element_blank()) +\n",
    "  theme_bw() + theme(plot.title = element_text(hjust = 0.5)) "
   ]
  }
 ],
 "metadata": {
  "kernelspec": {
   "display_name": "R",
   "language": "R",
   "name": "ir"
  },
  "language_info": {
   "codemirror_mode": "r",
   "file_extension": ".r",
   "mimetype": "text/x-r-source",
   "name": "R",
   "pygments_lexer": "r",
   "version": "3.6.1"
  }
 },
 "nbformat": 4,
 "nbformat_minor": 5
}
