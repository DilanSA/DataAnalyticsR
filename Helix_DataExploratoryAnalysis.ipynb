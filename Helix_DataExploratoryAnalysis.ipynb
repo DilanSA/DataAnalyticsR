{
 "cells": [
  {
   "cell_type": "markdown",
   "id": "6c6bb5fc",
   "metadata": {},
   "source": [
    "# ANÁLISIS EXPLORATORIO DE DATOS"
   ]
  },
  {
   "cell_type": "markdown",
   "id": "e968091e",
   "metadata": {},
   "source": [
    "### Instalación y activación de paquetes  "
   ]
  },
  {
   "cell_type": "code",
   "execution_count": 25,
   "id": "e9a8820c",
   "metadata": {},
   "outputs": [
    {
     "name": "stderr",
     "output_type": "stream",
     "text": [
      "also installing the dependencies 'xfun', 'glue', 'lifecycle', 'tidyselect', 'vctrs', 'cli', 'gargle', 'knitr', 'broom', 'dplyr', 'dtplyr', 'googledrive', 'googlesheets4', 'ggplot2', 'hms', 'jsonlite', 'pillar', 'purrr', 'reprex', 'rlang', 'rvest', 'tibble'\n",
      "\n"
     ]
    },
    {
     "name": "stdout",
     "output_type": "stream",
     "text": [
      "\n",
      "  There are binary versions available but the source versions are later:\n",
      "              binary source needs_compilation\n",
      "xfun            0.22   0.30              TRUE\n",
      "glue           1.4.2  1.6.2              TRUE\n",
      "lifecycle      1.0.0  1.0.1             FALSE\n",
      "tidyselect     1.1.1  1.1.2              TRUE\n",
      "vctrs          0.3.8  0.4.1              TRUE\n",
      "cli            2.5.0  3.3.0              TRUE\n",
      "gargle         1.1.0  1.2.0             FALSE\n",
      "knitr           1.33   1.39             FALSE\n",
      "broom          0.7.6  0.8.0             FALSE\n",
      "dplyr          1.0.6  1.0.9              TRUE\n",
      "dtplyr         1.1.0  1.2.1             FALSE\n",
      "googledrive    1.0.1  2.0.0             FALSE\n",
      "googlesheets4  0.3.0  1.0.0             FALSE\n",
      "ggplot2        3.3.3  3.3.6             FALSE\n",
      "hms            1.0.0  1.1.1             FALSE\n",
      "jsonlite       1.7.2  1.8.0              TRUE\n",
      "pillar         1.6.0  1.7.0             FALSE\n",
      "reprex         2.0.0  2.0.1             FALSE\n",
      "rlang         0.4.11  1.0.2              TRUE\n",
      "rvest          1.0.0  1.0.2             FALSE\n",
      "tibble         3.1.1  3.1.7              TRUE\n",
      "\n",
      "  Binaries will be installed\n"
     ]
    },
    {
     "name": "stderr",
     "output_type": "stream",
     "text": [
      "Warning message:\n",
      "\"package 'dplyr' is in use and will not be installed\""
     ]
    },
    {
     "name": "stdout",
     "output_type": "stream",
     "text": [
      "package 'xfun' successfully unpacked and MD5 sums checked\n",
      "package 'glue' successfully unpacked and MD5 sums checked\n"
     ]
    },
    {
     "name": "stderr",
     "output_type": "stream",
     "text": [
      "Warning message:\n",
      "\"cannot remove prior installation of package 'glue'\"Warning message in file.copy(savedcopy, lib, recursive = TRUE):\n",
      "\"problema al copiar C:\\Users\\Dilan\\anaconda3\\envs\\rtutorial\\Lib\\R\\library\\00LOCK\\glue\\libs\\x64\\glue.dll  a C:\\Users\\Dilan\\anaconda3\\envs\\rtutorial\\Lib\\R\\library\\glue\\libs\\x64\\glue.dll: Permission denied\"Warning message:\n",
      "\"restored 'glue'\""
     ]
    },
    {
     "name": "stdout",
     "output_type": "stream",
     "text": [
      "package 'tidyselect' successfully unpacked and MD5 sums checked\n"
     ]
    },
    {
     "name": "stderr",
     "output_type": "stream",
     "text": [
      "Warning message:\n",
      "\"cannot remove prior installation of package 'tidyselect'\"Warning message in file.copy(savedcopy, lib, recursive = TRUE):\n",
      "\"problema al copiar C:\\Users\\Dilan\\anaconda3\\envs\\rtutorial\\Lib\\R\\library\\00LOCK\\tidyselect\\libs\\x64\\tidyselect.dll  a C:\\Users\\Dilan\\anaconda3\\envs\\rtutorial\\Lib\\R\\library\\tidyselect\\libs\\x64\\tidyselect.dll: Permission denied\"Warning message:\n",
      "\"restored 'tidyselect'\""
     ]
    },
    {
     "name": "stdout",
     "output_type": "stream",
     "text": [
      "package 'vctrs' successfully unpacked and MD5 sums checked\n",
      "package 'cli' successfully unpacked and MD5 sums checked\n",
      "package 'jsonlite' successfully unpacked and MD5 sums checked\n"
     ]
    },
    {
     "name": "stderr",
     "output_type": "stream",
     "text": [
      "Warning message:\n",
      "\"cannot remove prior installation of package 'jsonlite'\"Warning message in file.copy(savedcopy, lib, recursive = TRUE):\n",
      "\"problema al copiar C:\\Users\\Dilan\\anaconda3\\envs\\rtutorial\\Lib\\R\\library\\00LOCK\\jsonlite\\libs\\x64\\jsonlite.dll  a C:\\Users\\Dilan\\anaconda3\\envs\\rtutorial\\Lib\\R\\library\\jsonlite\\libs\\x64\\jsonlite.dll: Permission denied\"Warning message:\n",
      "\"restored 'jsonlite'\""
     ]
    },
    {
     "name": "stdout",
     "output_type": "stream",
     "text": [
      "package 'purrr' successfully unpacked and MD5 sums checked\n"
     ]
    },
    {
     "name": "stderr",
     "output_type": "stream",
     "text": [
      "Warning message:\n",
      "\"cannot remove prior installation of package 'purrr'\"Warning message in file.copy(savedcopy, lib, recursive = TRUE):\n",
      "\"problema al copiar C:\\Users\\Dilan\\anaconda3\\envs\\rtutorial\\Lib\\R\\library\\00LOCK\\purrr\\libs\\x64\\purrr.dll  a C:\\Users\\Dilan\\anaconda3\\envs\\rtutorial\\Lib\\R\\library\\purrr\\libs\\x64\\purrr.dll: Permission denied\"Warning message:\n",
      "\"restored 'purrr'\""
     ]
    },
    {
     "name": "stdout",
     "output_type": "stream",
     "text": [
      "package 'rlang' successfully unpacked and MD5 sums checked\n"
     ]
    },
    {
     "name": "stderr",
     "output_type": "stream",
     "text": [
      "Warning message:\n",
      "\"cannot remove prior installation of package 'rlang'\"Warning message in file.copy(savedcopy, lib, recursive = TRUE):\n",
      "\"problema al copiar C:\\Users\\Dilan\\anaconda3\\envs\\rtutorial\\Lib\\R\\library\\00LOCK\\rlang\\libs\\x64\\rlang.dll  a C:\\Users\\Dilan\\anaconda3\\envs\\rtutorial\\Lib\\R\\library\\rlang\\libs\\x64\\rlang.dll: Permission denied\"Warning message:\n",
      "\"restored 'rlang'\""
     ]
    },
    {
     "name": "stdout",
     "output_type": "stream",
     "text": [
      "package 'tibble' successfully unpacked and MD5 sums checked\n"
     ]
    },
    {
     "name": "stderr",
     "output_type": "stream",
     "text": [
      "Warning message:\n",
      "\"cannot remove prior installation of package 'tibble'\"Warning message in file.copy(savedcopy, lib, recursive = TRUE):\n",
      "\"problema al copiar C:\\Users\\Dilan\\anaconda3\\envs\\rtutorial\\Lib\\R\\library\\00LOCK\\tibble\\libs\\x64\\tibble.dll  a C:\\Users\\Dilan\\anaconda3\\envs\\rtutorial\\Lib\\R\\library\\tibble\\libs\\x64\\tibble.dll: Permission denied\"Warning message:\n",
      "\"restored 'tibble'\""
     ]
    },
    {
     "name": "stdout",
     "output_type": "stream",
     "text": [
      "package 'tidyverse' successfully unpacked and MD5 sums checked\n",
      "\n",
      "The downloaded binary packages are in\n",
      "\tC:\\Users\\Dilan\\AppData\\Local\\Temp\\Rtmpgr7pWB\\downloaded_packages\n"
     ]
    },
    {
     "name": "stderr",
     "output_type": "stream",
     "text": [
      "installing the source packages 'lifecycle', 'gargle', 'knitr', 'broom', 'dtplyr', 'googledrive', 'googlesheets4', 'ggplot2', 'hms', 'pillar', 'reprex', 'rvest'\n",
      "\n",
      "Warning message in install.packages(\"tidyverse\"):\n",
      "\"installation of package 'lifecycle' had non-zero exit status\"Warning message in install.packages(\"tidyverse\"):\n",
      "\"installation of package 'gargle' had non-zero exit status\"Warning message in install.packages(\"tidyverse\"):\n",
      "\"installation of package 'knitr' had non-zero exit status\"Warning message in install.packages(\"tidyverse\"):\n",
      "\"installation of package 'ggplot2' had non-zero exit status\"Warning message in install.packages(\"tidyverse\"):\n",
      "\"installation of package 'broom' had non-zero exit status\"Warning message in install.packages(\"tidyverse\"):\n",
      "\"installation of package 'dtplyr' had non-zero exit status\"Warning message in install.packages(\"tidyverse\"):\n",
      "\"installation of package 'hms' had non-zero exit status\"Warning message in install.packages(\"tidyverse\"):\n",
      "\"installation of package 'pillar' had non-zero exit status\"Warning message in install.packages(\"tidyverse\"):\n",
      "\"installation of package 'reprex' had non-zero exit status\"Warning message in install.packages(\"tidyverse\"):\n",
      "\"installation of package 'rvest' had non-zero exit status\"Warning message in install.packages(\"tidyverse\"):\n",
      "\"installation of package 'googledrive' had non-zero exit status\"Warning message in install.packages(\"tidyverse\"):\n",
      "\"installation of package 'googlesheets4' had non-zero exit status\"Warning message:\n",
      "\"package 'tidyverse' was built under R version 3.6.3\""
     ]
    },
    {
     "ename": "ERROR",
     "evalue": "Error: package or namespace load failed for 'tidyverse' in loadNamespace(j <- i[[1L]], c(lib.loc, .libPaths()), versionCheck = vI[[j]]):\n namespace 'broom' 0.5.2 is being loaded, but >= 0.7.6 is required\n",
     "output_type": "error",
     "traceback": [
      "Error: package or namespace load failed for 'tidyverse' in loadNamespace(j <- i[[1L]], c(lib.loc, .libPaths()), versionCheck = vI[[j]]):\n namespace 'broom' 0.5.2 is being loaded, but >= 0.7.6 is required\nTraceback:\n",
      "1. library(tidyverse)",
      "2. tryCatch({\n .     attr(package, \"LibPath\") <- which.lib.loc\n .     ns <- loadNamespace(package, lib.loc)\n .     env <- attachNamespace(ns, pos = pos, deps, exclude, include.only)\n . }, error = function(e) {\n .     P <- if (!is.null(cc <- conditionCall(e))) \n .         paste(\" in\", deparse(cc)[1L])\n .     else \"\"\n .     msg <- gettextf(\"package or namespace load failed for %s%s:\\n %s\", \n .         sQuote(package), P, conditionMessage(e))\n .     if (logical.return) \n .         message(paste(\"Error:\", msg), domain = NA)\n .     else stop(msg, call. = FALSE, domain = NA)\n . })",
      "3. tryCatchList(expr, classes, parentenv, handlers)",
      "4. tryCatchOne(expr, names, parentenv, handlers[[1L]])",
      "5. value[[3L]](cond)",
      "6. stop(msg, call. = FALSE, domain = NA)"
     ]
    }
   ],
   "source": [
    "install.packages(\"tidyverse\")\n",
    "library(tidyverse)"
   ]
  },
  {
   "cell_type": "markdown",
   "id": "5242f5dd",
   "metadata": {},
   "source": [
    "### Importando la base de datos de R"
   ]
  },
  {
   "cell_type": "markdown",
   "id": "f59ef18d",
   "metadata": {},
   "source": [
    "Para este ejercicio utilizaremos la base de datos ´CO2´ \"Carbon Dioxide Uptake in Grass Plants\", correspondiente a un experimento sobre la tolerancia al frío de la especie de pasto *Echinochloa crus - galli*"
   ]
  },
  {
   "cell_type": "code",
   "execution_count": 24,
   "id": "87d28791",
   "metadata": {
    "scrolled": true
   },
   "outputs": [
    {
     "data": {
      "text/html": [
       "<table>\n",
       "<thead><tr><th scope=col>Plant</th><th scope=col>Type</th><th scope=col>Treatment</th><th scope=col>conc</th><th scope=col>uptake</th></tr></thead>\n",
       "<tbody>\n",
       "\t<tr><td>Qn1       </td><td>Quebec    </td><td>nonchilled</td><td>  95      </td><td>16.0      </td></tr>\n",
       "\t<tr><td>Qn1       </td><td>Quebec    </td><td>nonchilled</td><td> 175      </td><td>30.4      </td></tr>\n",
       "\t<tr><td>Qn1       </td><td>Quebec    </td><td>nonchilled</td><td> 250      </td><td>34.8      </td></tr>\n",
       "\t<tr><td>Qn1       </td><td>Quebec    </td><td>nonchilled</td><td> 350      </td><td>37.2      </td></tr>\n",
       "\t<tr><td>Qn1       </td><td>Quebec    </td><td>nonchilled</td><td> 500      </td><td>35.3      </td></tr>\n",
       "\t<tr><td>Qn1       </td><td>Quebec    </td><td>nonchilled</td><td> 675      </td><td>39.2      </td></tr>\n",
       "\t<tr><td>Qn1       </td><td>Quebec    </td><td>nonchilled</td><td>1000      </td><td>39.7      </td></tr>\n",
       "\t<tr><td>Qn2       </td><td>Quebec    </td><td>nonchilled</td><td>  95      </td><td>13.6      </td></tr>\n",
       "\t<tr><td>Qn2       </td><td>Quebec    </td><td>nonchilled</td><td> 175      </td><td>27.3      </td></tr>\n",
       "\t<tr><td>Qn2       </td><td>Quebec    </td><td>nonchilled</td><td> 250      </td><td>37.1      </td></tr>\n",
       "\t<tr><td>Qn2       </td><td>Quebec    </td><td>nonchilled</td><td> 350      </td><td>41.8      </td></tr>\n",
       "\t<tr><td>Qn2       </td><td>Quebec    </td><td>nonchilled</td><td> 500      </td><td>40.6      </td></tr>\n",
       "\t<tr><td>Qn2       </td><td>Quebec    </td><td>nonchilled</td><td> 675      </td><td>41.4      </td></tr>\n",
       "\t<tr><td>Qn2       </td><td>Quebec    </td><td>nonchilled</td><td>1000      </td><td>44.3      </td></tr>\n",
       "\t<tr><td>Qn3       </td><td>Quebec    </td><td>nonchilled</td><td>  95      </td><td>16.2      </td></tr>\n",
       "\t<tr><td>Qn3       </td><td>Quebec    </td><td>nonchilled</td><td> 175      </td><td>32.4      </td></tr>\n",
       "\t<tr><td>Qn3       </td><td>Quebec    </td><td>nonchilled</td><td> 250      </td><td>40.3      </td></tr>\n",
       "\t<tr><td>Qn3       </td><td>Quebec    </td><td>nonchilled</td><td> 350      </td><td>42.1      </td></tr>\n",
       "\t<tr><td>Qn3       </td><td>Quebec    </td><td>nonchilled</td><td> 500      </td><td>42.9      </td></tr>\n",
       "\t<tr><td>Qn3       </td><td>Quebec    </td><td>nonchilled</td><td> 675      </td><td>43.9      </td></tr>\n",
       "\t<tr><td>Qn3       </td><td>Quebec    </td><td>nonchilled</td><td>1000      </td><td>45.5      </td></tr>\n",
       "\t<tr><td>Qc1       </td><td>Quebec    </td><td>chilled   </td><td>  95      </td><td>14.2      </td></tr>\n",
       "\t<tr><td>Qc1       </td><td>Quebec    </td><td>chilled   </td><td> 175      </td><td>24.1      </td></tr>\n",
       "\t<tr><td>Qc1       </td><td>Quebec    </td><td>chilled   </td><td> 250      </td><td>30.3      </td></tr>\n",
       "\t<tr><td>Qc1       </td><td>Quebec    </td><td>chilled   </td><td> 350      </td><td>34.6      </td></tr>\n",
       "\t<tr><td>Qc1       </td><td>Quebec    </td><td>chilled   </td><td> 500      </td><td>32.5      </td></tr>\n",
       "\t<tr><td>Qc1       </td><td>Quebec    </td><td>chilled   </td><td> 675      </td><td>35.4      </td></tr>\n",
       "\t<tr><td>Qc1       </td><td>Quebec    </td><td>chilled   </td><td>1000      </td><td>38.7      </td></tr>\n",
       "\t<tr><td>Qc2       </td><td>Quebec    </td><td>chilled   </td><td>  95      </td><td> 9.3      </td></tr>\n",
       "\t<tr><td>Qc2       </td><td>Quebec    </td><td>chilled   </td><td> 175      </td><td>27.3      </td></tr>\n",
       "\t<tr><td>...</td><td>...</td><td>...</td><td>...</td><td>...</td></tr>\n",
       "\t<tr><td>Mn2        </td><td>Mississippi</td><td>nonchilled </td><td> 675       </td><td>31.1       </td></tr>\n",
       "\t<tr><td>Mn2        </td><td>Mississippi</td><td>nonchilled </td><td>1000       </td><td>31.5       </td></tr>\n",
       "\t<tr><td>Mn3        </td><td>Mississippi</td><td>nonchilled </td><td>  95       </td><td>11.3       </td></tr>\n",
       "\t<tr><td>Mn3        </td><td>Mississippi</td><td>nonchilled </td><td> 175       </td><td>19.4       </td></tr>\n",
       "\t<tr><td>Mn3        </td><td>Mississippi</td><td>nonchilled </td><td> 250       </td><td>25.8       </td></tr>\n",
       "\t<tr><td>Mn3        </td><td>Mississippi</td><td>nonchilled </td><td> 350       </td><td>27.9       </td></tr>\n",
       "\t<tr><td>Mn3        </td><td>Mississippi</td><td>nonchilled </td><td> 500       </td><td>28.5       </td></tr>\n",
       "\t<tr><td>Mn3        </td><td>Mississippi</td><td>nonchilled </td><td> 675       </td><td>28.1       </td></tr>\n",
       "\t<tr><td>Mn3        </td><td>Mississippi</td><td>nonchilled </td><td>1000       </td><td>27.8       </td></tr>\n",
       "\t<tr><td>Mc1        </td><td>Mississippi</td><td>chilled    </td><td>  95       </td><td>10.5       </td></tr>\n",
       "\t<tr><td>Mc1        </td><td>Mississippi</td><td>chilled    </td><td> 175       </td><td>14.9       </td></tr>\n",
       "\t<tr><td>Mc1        </td><td>Mississippi</td><td>chilled    </td><td> 250       </td><td>18.1       </td></tr>\n",
       "\t<tr><td>Mc1        </td><td>Mississippi</td><td>chilled    </td><td> 350       </td><td>18.9       </td></tr>\n",
       "\t<tr><td>Mc1        </td><td>Mississippi</td><td>chilled    </td><td> 500       </td><td>19.5       </td></tr>\n",
       "\t<tr><td>Mc1        </td><td>Mississippi</td><td>chilled    </td><td> 675       </td><td>22.2       </td></tr>\n",
       "\t<tr><td>Mc1        </td><td>Mississippi</td><td>chilled    </td><td>1000       </td><td>21.9       </td></tr>\n",
       "\t<tr><td>Mc2        </td><td>Mississippi</td><td>chilled    </td><td>  95       </td><td> 7.7       </td></tr>\n",
       "\t<tr><td>Mc2        </td><td>Mississippi</td><td>chilled    </td><td> 175       </td><td>11.4       </td></tr>\n",
       "\t<tr><td>Mc2        </td><td>Mississippi</td><td>chilled    </td><td> 250       </td><td>12.3       </td></tr>\n",
       "\t<tr><td>Mc2        </td><td>Mississippi</td><td>chilled    </td><td> 350       </td><td>13.0       </td></tr>\n",
       "\t<tr><td>Mc2        </td><td>Mississippi</td><td>chilled    </td><td> 500       </td><td>12.5       </td></tr>\n",
       "\t<tr><td>Mc2        </td><td>Mississippi</td><td>chilled    </td><td> 675       </td><td>13.7       </td></tr>\n",
       "\t<tr><td>Mc2        </td><td>Mississippi</td><td>chilled    </td><td>1000       </td><td>14.4       </td></tr>\n",
       "\t<tr><td>Mc3        </td><td>Mississippi</td><td>chilled    </td><td>  95       </td><td>10.6       </td></tr>\n",
       "\t<tr><td>Mc3        </td><td>Mississippi</td><td>chilled    </td><td> 175       </td><td>18.0       </td></tr>\n",
       "\t<tr><td>Mc3        </td><td>Mississippi</td><td>chilled    </td><td> 250       </td><td>17.9       </td></tr>\n",
       "\t<tr><td>Mc3        </td><td>Mississippi</td><td>chilled    </td><td> 350       </td><td>17.9       </td></tr>\n",
       "\t<tr><td>Mc3        </td><td>Mississippi</td><td>chilled    </td><td> 500       </td><td>17.9       </td></tr>\n",
       "\t<tr><td>Mc3        </td><td>Mississippi</td><td>chilled    </td><td> 675       </td><td>18.9       </td></tr>\n",
       "\t<tr><td>Mc3        </td><td>Mississippi</td><td>chilled    </td><td>1000       </td><td>19.9       </td></tr>\n",
       "</tbody>\n",
       "</table>\n"
      ],
      "text/latex": [
       "\\begin{tabular}{r|lllll}\n",
       " Plant & Type & Treatment & conc & uptake\\\\\n",
       "\\hline\n",
       "\t Qn1        & Quebec     & nonchilled &   95       & 16.0      \\\\\n",
       "\t Qn1        & Quebec     & nonchilled &  175       & 30.4      \\\\\n",
       "\t Qn1        & Quebec     & nonchilled &  250       & 34.8      \\\\\n",
       "\t Qn1        & Quebec     & nonchilled &  350       & 37.2      \\\\\n",
       "\t Qn1        & Quebec     & nonchilled &  500       & 35.3      \\\\\n",
       "\t Qn1        & Quebec     & nonchilled &  675       & 39.2      \\\\\n",
       "\t Qn1        & Quebec     & nonchilled & 1000       & 39.7      \\\\\n",
       "\t Qn2        & Quebec     & nonchilled &   95       & 13.6      \\\\\n",
       "\t Qn2        & Quebec     & nonchilled &  175       & 27.3      \\\\\n",
       "\t Qn2        & Quebec     & nonchilled &  250       & 37.1      \\\\\n",
       "\t Qn2        & Quebec     & nonchilled &  350       & 41.8      \\\\\n",
       "\t Qn2        & Quebec     & nonchilled &  500       & 40.6      \\\\\n",
       "\t Qn2        & Quebec     & nonchilled &  675       & 41.4      \\\\\n",
       "\t Qn2        & Quebec     & nonchilled & 1000       & 44.3      \\\\\n",
       "\t Qn3        & Quebec     & nonchilled &   95       & 16.2      \\\\\n",
       "\t Qn3        & Quebec     & nonchilled &  175       & 32.4      \\\\\n",
       "\t Qn3        & Quebec     & nonchilled &  250       & 40.3      \\\\\n",
       "\t Qn3        & Quebec     & nonchilled &  350       & 42.1      \\\\\n",
       "\t Qn3        & Quebec     & nonchilled &  500       & 42.9      \\\\\n",
       "\t Qn3        & Quebec     & nonchilled &  675       & 43.9      \\\\\n",
       "\t Qn3        & Quebec     & nonchilled & 1000       & 45.5      \\\\\n",
       "\t Qc1        & Quebec     & chilled    &   95       & 14.2      \\\\\n",
       "\t Qc1        & Quebec     & chilled    &  175       & 24.1      \\\\\n",
       "\t Qc1        & Quebec     & chilled    &  250       & 30.3      \\\\\n",
       "\t Qc1        & Quebec     & chilled    &  350       & 34.6      \\\\\n",
       "\t Qc1        & Quebec     & chilled    &  500       & 32.5      \\\\\n",
       "\t Qc1        & Quebec     & chilled    &  675       & 35.4      \\\\\n",
       "\t Qc1        & Quebec     & chilled    & 1000       & 38.7      \\\\\n",
       "\t Qc2        & Quebec     & chilled    &   95       &  9.3      \\\\\n",
       "\t Qc2        & Quebec     & chilled    &  175       & 27.3      \\\\\n",
       "\t ... & ... & ... & ... & ...\\\\\n",
       "\t Mn2         & Mississippi & nonchilled  &  675        & 31.1       \\\\\n",
       "\t Mn2         & Mississippi & nonchilled  & 1000        & 31.5       \\\\\n",
       "\t Mn3         & Mississippi & nonchilled  &   95        & 11.3       \\\\\n",
       "\t Mn3         & Mississippi & nonchilled  &  175        & 19.4       \\\\\n",
       "\t Mn3         & Mississippi & nonchilled  &  250        & 25.8       \\\\\n",
       "\t Mn3         & Mississippi & nonchilled  &  350        & 27.9       \\\\\n",
       "\t Mn3         & Mississippi & nonchilled  &  500        & 28.5       \\\\\n",
       "\t Mn3         & Mississippi & nonchilled  &  675        & 28.1       \\\\\n",
       "\t Mn3         & Mississippi & nonchilled  & 1000        & 27.8       \\\\\n",
       "\t Mc1         & Mississippi & chilled     &   95        & 10.5       \\\\\n",
       "\t Mc1         & Mississippi & chilled     &  175        & 14.9       \\\\\n",
       "\t Mc1         & Mississippi & chilled     &  250        & 18.1       \\\\\n",
       "\t Mc1         & Mississippi & chilled     &  350        & 18.9       \\\\\n",
       "\t Mc1         & Mississippi & chilled     &  500        & 19.5       \\\\\n",
       "\t Mc1         & Mississippi & chilled     &  675        & 22.2       \\\\\n",
       "\t Mc1         & Mississippi & chilled     & 1000        & 21.9       \\\\\n",
       "\t Mc2         & Mississippi & chilled     &   95        &  7.7       \\\\\n",
       "\t Mc2         & Mississippi & chilled     &  175        & 11.4       \\\\\n",
       "\t Mc2         & Mississippi & chilled     &  250        & 12.3       \\\\\n",
       "\t Mc2         & Mississippi & chilled     &  350        & 13.0       \\\\\n",
       "\t Mc2         & Mississippi & chilled     &  500        & 12.5       \\\\\n",
       "\t Mc2         & Mississippi & chilled     &  675        & 13.7       \\\\\n",
       "\t Mc2         & Mississippi & chilled     & 1000        & 14.4       \\\\\n",
       "\t Mc3         & Mississippi & chilled     &   95        & 10.6       \\\\\n",
       "\t Mc3         & Mississippi & chilled     &  175        & 18.0       \\\\\n",
       "\t Mc3         & Mississippi & chilled     &  250        & 17.9       \\\\\n",
       "\t Mc3         & Mississippi & chilled     &  350        & 17.9       \\\\\n",
       "\t Mc3         & Mississippi & chilled     &  500        & 17.9       \\\\\n",
       "\t Mc3         & Mississippi & chilled     &  675        & 18.9       \\\\\n",
       "\t Mc3         & Mississippi & chilled     & 1000        & 19.9       \\\\\n",
       "\\end{tabular}\n"
      ],
      "text/markdown": [
       "\n",
       "| Plant | Type | Treatment | conc | uptake |\n",
       "|---|---|---|---|---|\n",
       "| Qn1        | Quebec     | nonchilled |   95       | 16.0       |\n",
       "| Qn1        | Quebec     | nonchilled |  175       | 30.4       |\n",
       "| Qn1        | Quebec     | nonchilled |  250       | 34.8       |\n",
       "| Qn1        | Quebec     | nonchilled |  350       | 37.2       |\n",
       "| Qn1        | Quebec     | nonchilled |  500       | 35.3       |\n",
       "| Qn1        | Quebec     | nonchilled |  675       | 39.2       |\n",
       "| Qn1        | Quebec     | nonchilled | 1000       | 39.7       |\n",
       "| Qn2        | Quebec     | nonchilled |   95       | 13.6       |\n",
       "| Qn2        | Quebec     | nonchilled |  175       | 27.3       |\n",
       "| Qn2        | Quebec     | nonchilled |  250       | 37.1       |\n",
       "| Qn2        | Quebec     | nonchilled |  350       | 41.8       |\n",
       "| Qn2        | Quebec     | nonchilled |  500       | 40.6       |\n",
       "| Qn2        | Quebec     | nonchilled |  675       | 41.4       |\n",
       "| Qn2        | Quebec     | nonchilled | 1000       | 44.3       |\n",
       "| Qn3        | Quebec     | nonchilled |   95       | 16.2       |\n",
       "| Qn3        | Quebec     | nonchilled |  175       | 32.4       |\n",
       "| Qn3        | Quebec     | nonchilled |  250       | 40.3       |\n",
       "| Qn3        | Quebec     | nonchilled |  350       | 42.1       |\n",
       "| Qn3        | Quebec     | nonchilled |  500       | 42.9       |\n",
       "| Qn3        | Quebec     | nonchilled |  675       | 43.9       |\n",
       "| Qn3        | Quebec     | nonchilled | 1000       | 45.5       |\n",
       "| Qc1        | Quebec     | chilled    |   95       | 14.2       |\n",
       "| Qc1        | Quebec     | chilled    |  175       | 24.1       |\n",
       "| Qc1        | Quebec     | chilled    |  250       | 30.3       |\n",
       "| Qc1        | Quebec     | chilled    |  350       | 34.6       |\n",
       "| Qc1        | Quebec     | chilled    |  500       | 32.5       |\n",
       "| Qc1        | Quebec     | chilled    |  675       | 35.4       |\n",
       "| Qc1        | Quebec     | chilled    | 1000       | 38.7       |\n",
       "| Qc2        | Quebec     | chilled    |   95       |  9.3       |\n",
       "| Qc2        | Quebec     | chilled    |  175       | 27.3       |\n",
       "| ... | ... | ... | ... | ... |\n",
       "| Mn2         | Mississippi | nonchilled  |  675        | 31.1        |\n",
       "| Mn2         | Mississippi | nonchilled  | 1000        | 31.5        |\n",
       "| Mn3         | Mississippi | nonchilled  |   95        | 11.3        |\n",
       "| Mn3         | Mississippi | nonchilled  |  175        | 19.4        |\n",
       "| Mn3         | Mississippi | nonchilled  |  250        | 25.8        |\n",
       "| Mn3         | Mississippi | nonchilled  |  350        | 27.9        |\n",
       "| Mn3         | Mississippi | nonchilled  |  500        | 28.5        |\n",
       "| Mn3         | Mississippi | nonchilled  |  675        | 28.1        |\n",
       "| Mn3         | Mississippi | nonchilled  | 1000        | 27.8        |\n",
       "| Mc1         | Mississippi | chilled     |   95        | 10.5        |\n",
       "| Mc1         | Mississippi | chilled     |  175        | 14.9        |\n",
       "| Mc1         | Mississippi | chilled     |  250        | 18.1        |\n",
       "| Mc1         | Mississippi | chilled     |  350        | 18.9        |\n",
       "| Mc1         | Mississippi | chilled     |  500        | 19.5        |\n",
       "| Mc1         | Mississippi | chilled     |  675        | 22.2        |\n",
       "| Mc1         | Mississippi | chilled     | 1000        | 21.9        |\n",
       "| Mc2         | Mississippi | chilled     |   95        |  7.7        |\n",
       "| Mc2         | Mississippi | chilled     |  175        | 11.4        |\n",
       "| Mc2         | Mississippi | chilled     |  250        | 12.3        |\n",
       "| Mc2         | Mississippi | chilled     |  350        | 13.0        |\n",
       "| Mc2         | Mississippi | chilled     |  500        | 12.5        |\n",
       "| Mc2         | Mississippi | chilled     |  675        | 13.7        |\n",
       "| Mc2         | Mississippi | chilled     | 1000        | 14.4        |\n",
       "| Mc3         | Mississippi | chilled     |   95        | 10.6        |\n",
       "| Mc3         | Mississippi | chilled     |  175        | 18.0        |\n",
       "| Mc3         | Mississippi | chilled     |  250        | 17.9        |\n",
       "| Mc3         | Mississippi | chilled     |  350        | 17.9        |\n",
       "| Mc3         | Mississippi | chilled     |  500        | 17.9        |\n",
       "| Mc3         | Mississippi | chilled     |  675        | 18.9        |\n",
       "| Mc3         | Mississippi | chilled     | 1000        | 19.9        |\n",
       "\n"
      ],
      "text/plain": [
       "    Plant Type        Treatment  conc uptake\n",
       "1   Qn1   Quebec      nonchilled   95 16.0  \n",
       "2   Qn1   Quebec      nonchilled  175 30.4  \n",
       "3   Qn1   Quebec      nonchilled  250 34.8  \n",
       "4   Qn1   Quebec      nonchilled  350 37.2  \n",
       "5   Qn1   Quebec      nonchilled  500 35.3  \n",
       "6   Qn1   Quebec      nonchilled  675 39.2  \n",
       "7   Qn1   Quebec      nonchilled 1000 39.7  \n",
       "8   Qn2   Quebec      nonchilled   95 13.6  \n",
       "9   Qn2   Quebec      nonchilled  175 27.3  \n",
       "10  Qn2   Quebec      nonchilled  250 37.1  \n",
       "11  Qn2   Quebec      nonchilled  350 41.8  \n",
       "12  Qn2   Quebec      nonchilled  500 40.6  \n",
       "13  Qn2   Quebec      nonchilled  675 41.4  \n",
       "14  Qn2   Quebec      nonchilled 1000 44.3  \n",
       "15  Qn3   Quebec      nonchilled   95 16.2  \n",
       "16  Qn3   Quebec      nonchilled  175 32.4  \n",
       "17  Qn3   Quebec      nonchilled  250 40.3  \n",
       "18  Qn3   Quebec      nonchilled  350 42.1  \n",
       "19  Qn3   Quebec      nonchilled  500 42.9  \n",
       "20  Qn3   Quebec      nonchilled  675 43.9  \n",
       "21  Qn3   Quebec      nonchilled 1000 45.5  \n",
       "22  Qc1   Quebec      chilled      95 14.2  \n",
       "23  Qc1   Quebec      chilled     175 24.1  \n",
       "24  Qc1   Quebec      chilled     250 30.3  \n",
       "25  Qc1   Quebec      chilled     350 34.6  \n",
       "26  Qc1   Quebec      chilled     500 32.5  \n",
       "27  Qc1   Quebec      chilled     675 35.4  \n",
       "28  Qc1   Quebec      chilled    1000 38.7  \n",
       "29  Qc2   Quebec      chilled      95  9.3  \n",
       "30  Qc2   Quebec      chilled     175 27.3  \n",
       "... ...   ...         ...        ...  ...   \n",
       "55  Mn2   Mississippi nonchilled  675 31.1  \n",
       "56  Mn2   Mississippi nonchilled 1000 31.5  \n",
       "57  Mn3   Mississippi nonchilled   95 11.3  \n",
       "58  Mn3   Mississippi nonchilled  175 19.4  \n",
       "59  Mn3   Mississippi nonchilled  250 25.8  \n",
       "60  Mn3   Mississippi nonchilled  350 27.9  \n",
       "61  Mn3   Mississippi nonchilled  500 28.5  \n",
       "62  Mn3   Mississippi nonchilled  675 28.1  \n",
       "63  Mn3   Mississippi nonchilled 1000 27.8  \n",
       "64  Mc1   Mississippi chilled      95 10.5  \n",
       "65  Mc1   Mississippi chilled     175 14.9  \n",
       "66  Mc1   Mississippi chilled     250 18.1  \n",
       "67  Mc1   Mississippi chilled     350 18.9  \n",
       "68  Mc1   Mississippi chilled     500 19.5  \n",
       "69  Mc1   Mississippi chilled     675 22.2  \n",
       "70  Mc1   Mississippi chilled    1000 21.9  \n",
       "71  Mc2   Mississippi chilled      95  7.7  \n",
       "72  Mc2   Mississippi chilled     175 11.4  \n",
       "73  Mc2   Mississippi chilled     250 12.3  \n",
       "74  Mc2   Mississippi chilled     350 13.0  \n",
       "75  Mc2   Mississippi chilled     500 12.5  \n",
       "76  Mc2   Mississippi chilled     675 13.7  \n",
       "77  Mc2   Mississippi chilled    1000 14.4  \n",
       "78  Mc3   Mississippi chilled      95 10.6  \n",
       "79  Mc3   Mississippi chilled     175 18.0  \n",
       "80  Mc3   Mississippi chilled     250 17.9  \n",
       "81  Mc3   Mississippi chilled     350 17.9  \n",
       "82  Mc3   Mississippi chilled     500 17.9  \n",
       "83  Mc3   Mississippi chilled     675 18.9  \n",
       "84  Mc3   Mississippi chilled    1000 19.9  "
      ]
     },
     "metadata": {},
     "output_type": "display_data"
    }
   ],
   "source": [
    "data(\"CO2\")\n",
    "CO2"
   ]
  },
  {
   "cell_type": "code",
   "execution_count": 23,
   "id": "d28bdd30",
   "metadata": {},
   "outputs": [
    {
     "name": "stdout",
     "output_type": "stream",
     "text": [
      "Observations: 84\n",
      "Variables: 5\n",
      "$ Plant     <ord> Qn1, Qn1, Qn1, Qn1, Qn1, Qn1, Qn1, Qn2, Qn2, Qn2, Qn2, Qn...\n",
      "$ Type      <fct> Quebec, Quebec, Quebec, Quebec, Quebec, Quebec, Quebec, Q...\n",
      "$ Treatment <fct> nonchilled, nonchilled, nonchilled, nonchilled, nonchille...\n",
      "$ conc      <dbl> 95, 175, 250, 350, 500, 675, 1000, 95, 175, 250, 350, 500...\n",
      "$ uptake    <dbl> 16.0, 30.4, 34.8, 37.2, 35.3, 39.2, 39.7, 13.6, 27.3, 37....\n"
     ]
    }
   ],
   "source": [
    "glimpse(CO2)"
   ]
  },
  {
   "cell_type": "code",
   "execution_count": null,
   "id": "7f19fede",
   "metadata": {},
   "outputs": [],
   "source": []
  }
 ],
 "metadata": {
  "kernelspec": {
   "display_name": "R",
   "language": "R",
   "name": "ir"
  },
  "language_info": {
   "codemirror_mode": "r",
   "file_extension": ".r",
   "mimetype": "text/x-r-source",
   "name": "R",
   "pygments_lexer": "r",
   "version": "3.6.1"
  }
 },
 "nbformat": 4,
 "nbformat_minor": 5
}
